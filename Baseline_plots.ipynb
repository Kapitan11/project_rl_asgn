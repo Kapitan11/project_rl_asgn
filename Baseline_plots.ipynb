{
 "cells": [
  {
   "cell_type": "code",
   "execution_count": 31,
   "id": "343b4366",
   "metadata": {
    "ExecuteTime": {
     "end_time": "2023-01-19T02:46:43.276406Z",
     "start_time": "2023-01-19T02:46:42.776041Z"
    }
   },
   "outputs": [],
   "source": [
    "import numpy as np\n",
    "import pandas as pd\n",
    "from pandas.core.arrays.period import timedelta\n",
    "\n",
    "import plotly.graph_objs as go"
   ]
  },
  {
   "cell_type": "code",
   "execution_count": 32,
   "id": "7828a328",
   "metadata": {
    "ExecuteTime": {
     "end_time": "2023-01-19T02:46:43.290932Z",
     "start_time": "2023-01-19T02:46:43.279414Z"
    }
   },
   "outputs": [],
   "source": [
    "def rename_prices(df):\n",
    "    if 'PRICES' in df.columns:\n",
    "        df.rename(columns={\"PRICES\": \"datetime\"}, inplace = True)\n",
    "    else:\n",
    "        print(\"There's no column PRICES.\")\n",
    "\n",
    "\n",
    "def dataformatting(df):\n",
    "    #wide to long\n",
    "    df = df.melt(id_vars=['datetime'], value_vars=df.columns[1:25]).sort_values(['datetime', 'variable'])\n",
    "    df.reset_index(inplace=True, drop=True)\n",
    "    \n",
    "    #creating master time column, ulgy but works\n",
    "    time = df['datetime'].copy()\n",
    "    for d in range(len(df['datetime'])):\n",
    "        time[d] = df['datetime'][d]+timedelta(hours = d%24) #decided not to go for the +1, so hour 1 is midnight, makes more sense, now it ends in 2009, otherwise the last measurement was 01.01.2010 00:00:00\n",
    "    df['time'] = time\n",
    "    \n",
    "    #hour from string to int\n",
    "    df['variable'] = df['variable'].map(lambda x:int(x[-2:]))\n",
    "    \n",
    "    #renaming, shullfing columns (not important)\n",
    "    df.rename(columns={\"datetime\": \"date\", \"variable\": \"hour\", \"value\":\"price\"}, inplace = True)\n",
    "    cols = df.columns.tolist()\n",
    "    cols = cols[-1:] + cols[:-1]\n",
    "    df = df[cols]\n",
    "    \n",
    "    return df\n",
    "\n",
    "def drop_n_last_rows(df, n):\n",
    "    df.drop(df.tail(1).index,inplace=True)\n",
    "    \n",
    "def conv(fld):\n",
    "    if fld.endswith(b']'):\n",
    "        return float(fld[:-1])\n",
    "    elif fld.startswith(b'['):\n",
    "        return float(fld[1:])\n",
    "    else:\n",
    "        return float(fld)\n",
    "    \n",
    "def load_validation_results(txt_file_name:str='experiment_results.txt', actionBool = True):\n",
    "    val = pd.read_excel('./data/val_data/validate.xlsx')\n",
    "    rename_prices(val)\n",
    "    val = dataformatting(val)\n",
    "    \n",
    "    filename = './model/tabular_q/'+txt_file_name\n",
    "    \n",
    "    if actionBool:\n",
    "        # To load the actions (reward/mkt_price)\n",
    "        results = np.loadtxt(filename, delimiter=',', skiprows=3,max_rows = 1, dtype=float, converters=conv)\n",
    "    else:\n",
    "        # To load the rewards\n",
    "        results = np.loadtxt(filename, delimiter=',', skiprows=1,max_rows = 1, dtype=float, converters=conv)\n",
    "    \n",
    "    if len(val)>len(results):\n",
    "        # Drop the last row from validation data due to lack of action/reward taken when in that state \n",
    "        drop_n_last_rows(val, n=1)\n",
    "    \n",
    "    val['action'] = results\n",
    "    \n",
    "    return val"
   ]
  },
  {
   "cell_type": "code",
   "execution_count": 33,
   "id": "11205597",
   "metadata": {
    "ExecuteTime": {
     "end_time": "2023-01-19T02:46:44.398618Z",
     "start_time": "2023-01-19T02:46:43.293914Z"
    }
   },
   "outputs": [
    {
     "data": {
      "text/html": [
       "<div>\n",
       "<style scoped>\n",
       "    .dataframe tbody tr th:only-of-type {\n",
       "        vertical-align: middle;\n",
       "    }\n",
       "\n",
       "    .dataframe tbody tr th {\n",
       "        vertical-align: top;\n",
       "    }\n",
       "\n",
       "    .dataframe thead th {\n",
       "        text-align: right;\n",
       "    }\n",
       "</style>\n",
       "<table border=\"1\" class=\"dataframe\">\n",
       "  <thead>\n",
       "    <tr style=\"text-align: right;\">\n",
       "      <th></th>\n",
       "      <th>time</th>\n",
       "      <th>date</th>\n",
       "      <th>hour</th>\n",
       "      <th>price</th>\n",
       "      <th>action</th>\n",
       "    </tr>\n",
       "  </thead>\n",
       "  <tbody>\n",
       "    <tr>\n",
       "      <th>1180</th>\n",
       "      <td>2010-02-19 04:00:00</td>\n",
       "      <td>2010-02-19</td>\n",
       "      <td>5</td>\n",
       "      <td>25.01</td>\n",
       "      <td>-1.41264</td>\n",
       "    </tr>\n",
       "    <tr>\n",
       "      <th>10838</th>\n",
       "      <td>2011-03-28 14:00:00</td>\n",
       "      <td>2011-03-28</td>\n",
       "      <td>15</td>\n",
       "      <td>80.00</td>\n",
       "      <td>0.00000</td>\n",
       "    </tr>\n",
       "    <tr>\n",
       "      <th>5740</th>\n",
       "      <td>2010-08-28 04:00:00</td>\n",
       "      <td>2010-08-28</td>\n",
       "      <td>5</td>\n",
       "      <td>28.77</td>\n",
       "      <td>-1.41264</td>\n",
       "    </tr>\n",
       "    <tr>\n",
       "      <th>16784</th>\n",
       "      <td>2011-12-01 08:00:00</td>\n",
       "      <td>2011-12-01</td>\n",
       "      <td>9</td>\n",
       "      <td>60.84</td>\n",
       "      <td>0.00000</td>\n",
       "    </tr>\n",
       "    <tr>\n",
       "      <th>13335</th>\n",
       "      <td>2011-07-10 15:00:00</td>\n",
       "      <td>2011-07-10</td>\n",
       "      <td>16</td>\n",
       "      <td>43.27</td>\n",
       "      <td>0.00000</td>\n",
       "    </tr>\n",
       "  </tbody>\n",
       "</table>\n",
       "</div>"
      ],
      "text/plain": [
       "                     time       date  hour  price   action\n",
       "1180  2010-02-19 04:00:00 2010-02-19     5  25.01 -1.41264\n",
       "10838 2011-03-28 14:00:00 2011-03-28    15  80.00  0.00000\n",
       "5740  2010-08-28 04:00:00 2010-08-28     5  28.77 -1.41264\n",
       "16784 2011-12-01 08:00:00 2011-12-01     9  60.84  0.00000\n",
       "13335 2011-07-10 15:00:00 2011-07-10    16  43.27  0.00000"
      ]
     },
     "execution_count": 33,
     "metadata": {},
     "output_type": "execute_result"
    }
   ],
   "source": [
    "val=load_validation_results()\n",
    "val.sample(5)"
   ]
  },
  {
   "cell_type": "code",
   "execution_count": 34,
   "id": "df9cdea5",
   "metadata": {
    "ExecuteTime": {
     "end_time": "2023-01-19T02:46:44.409382Z",
     "start_time": "2023-01-19T02:46:44.402831Z"
    }
   },
   "outputs": [],
   "source": [
    "def buy_sell_hodl_plot(df, howmanydays=5):\n",
    "    howmanyhours=howmanydays*24\n",
    "    max_range=len(df)-howmanyhours\n",
    "    ri = np.random.randint(0, max_range)\n",
    "\n",
    "    trace=dict(type='scatter',\n",
    "              x=df.time[ri:ri+howmanyhours],\n",
    "              y=df.price[ri:ri+howmanyhours],\n",
    "              mode='lines+markers',\n",
    "              marker=dict(color= df.action[ri:ri+howmanyhours], \n",
    "                          colorscale='Cividis', size=7, colorbar=dict(thickness=20,tickvals=[df.action[ri:ri+howmanyhours].max(), 0.0, df.action[ri:ri+howmanyhours].min()], ticktext=['Sell', 'Hold','Buy'])))\n",
    "\n",
    "\n",
    "    axis_style=dict(zeroline=False, showline=True, mirror=True)\n",
    "    layout=dict(width=900, height=600, \n",
    "                title=f'Actions taken vs. energy prices between {df.time[ri].day} {df.time[ri].month_name()} - {df.time[ri+howmanyhours-1].day} {df.time[ri+howmanyhours-1].month_name()} {df.time[ri+howmanyhours-1].year}',\n",
    "                xaxis=axis_style,\n",
    "                yaxis=axis_style,\n",
    "                yaxis_title=\"Energy market price (Euro/MWh)\",\n",
    "               hovermode='closest', showlegend=False)\n",
    "    fw=go.FigureWidget(data=[trace], layout=layout)\n",
    "\n",
    "    fw.show()"
   ]
  },
  {
   "cell_type": "code",
   "execution_count": 35,
   "id": "873ea66f",
   "metadata": {
    "ExecuteTime": {
     "end_time": "2023-01-19T02:46:45.165892Z",
     "start_time": "2023-01-19T02:46:44.411269Z"
    }
   },
   "outputs": [
    {
     "data": {
      "application/vnd.plotly.v1+json": {
       "config": {
        "plotlyServerURL": "https://plot.ly"
       },
       "data": [
        {
         "marker": {
          "color": [
           0,
           0,
           0,
           0,
           0,
           0,
           0,
           0,
           0,
           0,
           0,
           -1.41264,
           -1.41264,
           0,
           0,
           0,
           0,
           0,
           0,
           1.32435,
           0,
           0,
           0.79461,
           0,
           0,
           0,
           0,
           0,
           0,
           0,
           0,
           0,
           0,
           0,
           -1.41264,
           -1.41264,
           0,
           0,
           0,
           0,
           0,
           0,
           0,
           1.32435,
           0,
           0,
           0.79461,
           0,
           0,
           0,
           0,
           0,
           0,
           0,
           0,
           0,
           0,
           0,
           -1.41264,
           -1.41264,
           -1.41264,
           0,
           1.32435,
           0,
           0,
           0,
           0,
           1.3243500000000001,
           0,
           0.52974,
           0,
           0,
           0,
           0,
           0,
           0,
           0,
           0,
           0,
           0,
           0,
           0,
           -1.41264,
           -1.41264,
           -1.41264,
           0,
           1.32435,
           0,
           0,
           0,
           0,
           1.32435,
           0.52974,
           0,
           0,
           0,
           0,
           0,
           0,
           0,
           0,
           0,
           0,
           0,
           0,
           0,
           -1.41264,
           -1.41264,
           -1.41264,
           -0.66708,
           0,
           0,
           0,
           1.32435,
           1.32435,
           1.03005,
           0,
           0,
           0,
           0
          ],
          "colorbar": {
           "thickness": 20,
           "ticktext": [
            "Sell",
            "Hold",
            "Buy"
           ],
           "tickvals": [
            1.3243500000000001,
            0,
            -1.41264
           ]
          },
          "colorscale": [
           [
            0,
            "#00224e"
           ],
           [
            0.1111111111111111,
            "#123570"
           ],
           [
            0.2222222222222222,
            "#3b496c"
           ],
           [
            0.3333333333333333,
            "#575d6d"
           ],
           [
            0.4444444444444444,
            "#707173"
           ],
           [
            0.5555555555555556,
            "#8a8678"
           ],
           [
            0.6666666666666666,
            "#a59c74"
           ],
           [
            0.7777777777777778,
            "#c3b369"
           ],
           [
            0.8888888888888888,
            "#e1cc55"
           ],
           [
            1,
            "#fee838"
           ]
          ],
          "size": 7
         },
         "mode": "lines+markers",
         "type": "scatter",
         "uid": "a65c1879-7b2e-4958-b820-e1d403134c1a",
         "x": [
          "2011-08-22T17:00:00",
          "2011-08-22T18:00:00",
          "2011-08-22T19:00:00",
          "2011-08-22T20:00:00",
          "2011-08-22T21:00:00",
          "2011-08-22T22:00:00",
          "2011-08-22T23:00:00",
          "2011-08-23T00:00:00",
          "2011-08-23T01:00:00",
          "2011-08-23T02:00:00",
          "2011-08-23T03:00:00",
          "2011-08-23T04:00:00",
          "2011-08-23T05:00:00",
          "2011-08-23T06:00:00",
          "2011-08-23T07:00:00",
          "2011-08-23T08:00:00",
          "2011-08-23T09:00:00",
          "2011-08-23T10:00:00",
          "2011-08-23T11:00:00",
          "2011-08-23T12:00:00",
          "2011-08-23T13:00:00",
          "2011-08-23T14:00:00",
          "2011-08-23T15:00:00",
          "2011-08-23T16:00:00",
          "2011-08-23T17:00:00",
          "2011-08-23T18:00:00",
          "2011-08-23T19:00:00",
          "2011-08-23T20:00:00",
          "2011-08-23T21:00:00",
          "2011-08-23T22:00:00",
          "2011-08-23T23:00:00",
          "2011-08-24T00:00:00",
          "2011-08-24T01:00:00",
          "2011-08-24T02:00:00",
          "2011-08-24T03:00:00",
          "2011-08-24T04:00:00",
          "2011-08-24T05:00:00",
          "2011-08-24T06:00:00",
          "2011-08-24T07:00:00",
          "2011-08-24T08:00:00",
          "2011-08-24T09:00:00",
          "2011-08-24T10:00:00",
          "2011-08-24T11:00:00",
          "2011-08-24T12:00:00",
          "2011-08-24T13:00:00",
          "2011-08-24T14:00:00",
          "2011-08-24T15:00:00",
          "2011-08-24T16:00:00",
          "2011-08-24T17:00:00",
          "2011-08-24T18:00:00",
          "2011-08-24T19:00:00",
          "2011-08-24T20:00:00",
          "2011-08-24T21:00:00",
          "2011-08-24T22:00:00",
          "2011-08-24T23:00:00",
          "2011-08-25T00:00:00",
          "2011-08-25T01:00:00",
          "2011-08-25T02:00:00",
          "2011-08-25T03:00:00",
          "2011-08-25T04:00:00",
          "2011-08-25T05:00:00",
          "2011-08-25T06:00:00",
          "2011-08-25T07:00:00",
          "2011-08-25T08:00:00",
          "2011-08-25T09:00:00",
          "2011-08-25T10:00:00",
          "2011-08-25T11:00:00",
          "2011-08-25T12:00:00",
          "2011-08-25T13:00:00",
          "2011-08-25T14:00:00",
          "2011-08-25T15:00:00",
          "2011-08-25T16:00:00",
          "2011-08-25T17:00:00",
          "2011-08-25T18:00:00",
          "2011-08-25T19:00:00",
          "2011-08-25T20:00:00",
          "2011-08-25T21:00:00",
          "2011-08-25T22:00:00",
          "2011-08-25T23:00:00",
          "2011-08-26T00:00:00",
          "2011-08-26T01:00:00",
          "2011-08-26T02:00:00",
          "2011-08-26T03:00:00",
          "2011-08-26T04:00:00",
          "2011-08-26T05:00:00",
          "2011-08-26T06:00:00",
          "2011-08-26T07:00:00",
          "2011-08-26T08:00:00",
          "2011-08-26T09:00:00",
          "2011-08-26T10:00:00",
          "2011-08-26T11:00:00",
          "2011-08-26T12:00:00",
          "2011-08-26T13:00:00",
          "2011-08-26T14:00:00",
          "2011-08-26T15:00:00",
          "2011-08-26T16:00:00",
          "2011-08-26T17:00:00",
          "2011-08-26T18:00:00",
          "2011-08-26T19:00:00",
          "2011-08-26T20:00:00",
          "2011-08-26T21:00:00",
          "2011-08-26T22:00:00",
          "2011-08-26T23:00:00",
          "2011-08-27T00:00:00",
          "2011-08-27T01:00:00",
          "2011-08-27T02:00:00",
          "2011-08-27T03:00:00",
          "2011-08-27T04:00:00",
          "2011-08-27T05:00:00",
          "2011-08-27T06:00:00",
          "2011-08-27T07:00:00",
          "2011-08-27T08:00:00",
          "2011-08-27T09:00:00",
          "2011-08-27T10:00:00",
          "2011-08-27T11:00:00",
          "2011-08-27T12:00:00",
          "2011-08-27T13:00:00",
          "2011-08-27T14:00:00",
          "2011-08-27T15:00:00",
          "2011-08-27T16:00:00"
         ],
         "y": [
          59.66,
          61.19,
          59.16,
          57.84,
          56.72,
          55.78,
          47.91,
          44.79,
          42.13,
          38.09,
          28.5,
          26.3,
          37.45,
          37.45,
          50.46,
          57.05,
          63.8,
          65.15,
          64.52,
          64.06,
          63.49,
          62.01,
          60.53,
          56.84,
          59.06,
          58.9,
          56.19,
          56.87,
          56.55,
          52.98,
          44.17,
          43,
          41.39,
          38.97,
          17.34,
          17.05,
          42.8,
          46,
          45.85,
          56.48,
          64.63,
          66.11,
          69.12,
          67.11,
          67.07,
          66.9,
          65.74,
          64.99,
          61.19,
          62.92,
          58.87,
          56.8,
          55.58,
          54.95,
          48.91,
          47.47,
          44.11,
          20.64,
          13.33,
          12.96,
          18.93,
          41.99,
          47.99,
          50.84,
          58.43,
          65.13,
          69.52,
          70.87,
          68.3,
          66.95,
          56.68,
          57.36,
          56.19,
          56.67,
          55.36,
          55.21,
          53.02,
          52.99,
          47.28,
          45.54,
          44.05,
          23.4,
          11.84,
          10.95,
          17.93,
          46.05,
          51.89,
          61.43,
          64.06,
          65.32,
          65.94,
          62.8,
          56.27,
          53,
          50.77,
          50.78,
          51.38,
          53.27,
          53.04,
          53.19,
          51.37,
          48.7,
          44.6,
          38.91,
          20.99,
          14.82,
          10.94,
          10.95,
          10.9,
          11.07,
          11.51,
          29.91,
          47.29,
          53.03,
          58.44,
          59.95,
          55.49,
          50.52,
          47.98,
          41.75
         ]
        }
       ],
       "layout": {
        "height": 600,
        "hovermode": "closest",
        "showlegend": false,
        "template": {
         "data": {
          "bar": [
           {
            "error_x": {
             "color": "#2a3f5f"
            },
            "error_y": {
             "color": "#2a3f5f"
            },
            "marker": {
             "line": {
              "color": "#E5ECF6",
              "width": 0.5
             },
             "pattern": {
              "fillmode": "overlay",
              "size": 10,
              "solidity": 0.2
             }
            },
            "type": "bar"
           }
          ],
          "barpolar": [
           {
            "marker": {
             "line": {
              "color": "#E5ECF6",
              "width": 0.5
             },
             "pattern": {
              "fillmode": "overlay",
              "size": 10,
              "solidity": 0.2
             }
            },
            "type": "barpolar"
           }
          ],
          "carpet": [
           {
            "aaxis": {
             "endlinecolor": "#2a3f5f",
             "gridcolor": "white",
             "linecolor": "white",
             "minorgridcolor": "white",
             "startlinecolor": "#2a3f5f"
            },
            "baxis": {
             "endlinecolor": "#2a3f5f",
             "gridcolor": "white",
             "linecolor": "white",
             "minorgridcolor": "white",
             "startlinecolor": "#2a3f5f"
            },
            "type": "carpet"
           }
          ],
          "choropleth": [
           {
            "colorbar": {
             "outlinewidth": 0,
             "ticks": ""
            },
            "type": "choropleth"
           }
          ],
          "contour": [
           {
            "colorbar": {
             "outlinewidth": 0,
             "ticks": ""
            },
            "colorscale": [
             [
              0,
              "#0d0887"
             ],
             [
              0.1111111111111111,
              "#46039f"
             ],
             [
              0.2222222222222222,
              "#7201a8"
             ],
             [
              0.3333333333333333,
              "#9c179e"
             ],
             [
              0.4444444444444444,
              "#bd3786"
             ],
             [
              0.5555555555555556,
              "#d8576b"
             ],
             [
              0.6666666666666666,
              "#ed7953"
             ],
             [
              0.7777777777777778,
              "#fb9f3a"
             ],
             [
              0.8888888888888888,
              "#fdca26"
             ],
             [
              1,
              "#f0f921"
             ]
            ],
            "type": "contour"
           }
          ],
          "contourcarpet": [
           {
            "colorbar": {
             "outlinewidth": 0,
             "ticks": ""
            },
            "type": "contourcarpet"
           }
          ],
          "heatmap": [
           {
            "colorbar": {
             "outlinewidth": 0,
             "ticks": ""
            },
            "colorscale": [
             [
              0,
              "#0d0887"
             ],
             [
              0.1111111111111111,
              "#46039f"
             ],
             [
              0.2222222222222222,
              "#7201a8"
             ],
             [
              0.3333333333333333,
              "#9c179e"
             ],
             [
              0.4444444444444444,
              "#bd3786"
             ],
             [
              0.5555555555555556,
              "#d8576b"
             ],
             [
              0.6666666666666666,
              "#ed7953"
             ],
             [
              0.7777777777777778,
              "#fb9f3a"
             ],
             [
              0.8888888888888888,
              "#fdca26"
             ],
             [
              1,
              "#f0f921"
             ]
            ],
            "type": "heatmap"
           }
          ],
          "heatmapgl": [
           {
            "colorbar": {
             "outlinewidth": 0,
             "ticks": ""
            },
            "colorscale": [
             [
              0,
              "#0d0887"
             ],
             [
              0.1111111111111111,
              "#46039f"
             ],
             [
              0.2222222222222222,
              "#7201a8"
             ],
             [
              0.3333333333333333,
              "#9c179e"
             ],
             [
              0.4444444444444444,
              "#bd3786"
             ],
             [
              0.5555555555555556,
              "#d8576b"
             ],
             [
              0.6666666666666666,
              "#ed7953"
             ],
             [
              0.7777777777777778,
              "#fb9f3a"
             ],
             [
              0.8888888888888888,
              "#fdca26"
             ],
             [
              1,
              "#f0f921"
             ]
            ],
            "type": "heatmapgl"
           }
          ],
          "histogram": [
           {
            "marker": {
             "pattern": {
              "fillmode": "overlay",
              "size": 10,
              "solidity": 0.2
             }
            },
            "type": "histogram"
           }
          ],
          "histogram2d": [
           {
            "colorbar": {
             "outlinewidth": 0,
             "ticks": ""
            },
            "colorscale": [
             [
              0,
              "#0d0887"
             ],
             [
              0.1111111111111111,
              "#46039f"
             ],
             [
              0.2222222222222222,
              "#7201a8"
             ],
             [
              0.3333333333333333,
              "#9c179e"
             ],
             [
              0.4444444444444444,
              "#bd3786"
             ],
             [
              0.5555555555555556,
              "#d8576b"
             ],
             [
              0.6666666666666666,
              "#ed7953"
             ],
             [
              0.7777777777777778,
              "#fb9f3a"
             ],
             [
              0.8888888888888888,
              "#fdca26"
             ],
             [
              1,
              "#f0f921"
             ]
            ],
            "type": "histogram2d"
           }
          ],
          "histogram2dcontour": [
           {
            "colorbar": {
             "outlinewidth": 0,
             "ticks": ""
            },
            "colorscale": [
             [
              0,
              "#0d0887"
             ],
             [
              0.1111111111111111,
              "#46039f"
             ],
             [
              0.2222222222222222,
              "#7201a8"
             ],
             [
              0.3333333333333333,
              "#9c179e"
             ],
             [
              0.4444444444444444,
              "#bd3786"
             ],
             [
              0.5555555555555556,
              "#d8576b"
             ],
             [
              0.6666666666666666,
              "#ed7953"
             ],
             [
              0.7777777777777778,
              "#fb9f3a"
             ],
             [
              0.8888888888888888,
              "#fdca26"
             ],
             [
              1,
              "#f0f921"
             ]
            ],
            "type": "histogram2dcontour"
           }
          ],
          "mesh3d": [
           {
            "colorbar": {
             "outlinewidth": 0,
             "ticks": ""
            },
            "type": "mesh3d"
           }
          ],
          "parcoords": [
           {
            "line": {
             "colorbar": {
              "outlinewidth": 0,
              "ticks": ""
             }
            },
            "type": "parcoords"
           }
          ],
          "pie": [
           {
            "automargin": true,
            "type": "pie"
           }
          ],
          "scatter": [
           {
            "fillpattern": {
             "fillmode": "overlay",
             "size": 10,
             "solidity": 0.2
            },
            "type": "scatter"
           }
          ],
          "scatter3d": [
           {
            "line": {
             "colorbar": {
              "outlinewidth": 0,
              "ticks": ""
             }
            },
            "marker": {
             "colorbar": {
              "outlinewidth": 0,
              "ticks": ""
             }
            },
            "type": "scatter3d"
           }
          ],
          "scattercarpet": [
           {
            "marker": {
             "colorbar": {
              "outlinewidth": 0,
              "ticks": ""
             }
            },
            "type": "scattercarpet"
           }
          ],
          "scattergeo": [
           {
            "marker": {
             "colorbar": {
              "outlinewidth": 0,
              "ticks": ""
             }
            },
            "type": "scattergeo"
           }
          ],
          "scattergl": [
           {
            "marker": {
             "colorbar": {
              "outlinewidth": 0,
              "ticks": ""
             }
            },
            "type": "scattergl"
           }
          ],
          "scattermapbox": [
           {
            "marker": {
             "colorbar": {
              "outlinewidth": 0,
              "ticks": ""
             }
            },
            "type": "scattermapbox"
           }
          ],
          "scatterpolar": [
           {
            "marker": {
             "colorbar": {
              "outlinewidth": 0,
              "ticks": ""
             }
            },
            "type": "scatterpolar"
           }
          ],
          "scatterpolargl": [
           {
            "marker": {
             "colorbar": {
              "outlinewidth": 0,
              "ticks": ""
             }
            },
            "type": "scatterpolargl"
           }
          ],
          "scatterternary": [
           {
            "marker": {
             "colorbar": {
              "outlinewidth": 0,
              "ticks": ""
             }
            },
            "type": "scatterternary"
           }
          ],
          "surface": [
           {
            "colorbar": {
             "outlinewidth": 0,
             "ticks": ""
            },
            "colorscale": [
             [
              0,
              "#0d0887"
             ],
             [
              0.1111111111111111,
              "#46039f"
             ],
             [
              0.2222222222222222,
              "#7201a8"
             ],
             [
              0.3333333333333333,
              "#9c179e"
             ],
             [
              0.4444444444444444,
              "#bd3786"
             ],
             [
              0.5555555555555556,
              "#d8576b"
             ],
             [
              0.6666666666666666,
              "#ed7953"
             ],
             [
              0.7777777777777778,
              "#fb9f3a"
             ],
             [
              0.8888888888888888,
              "#fdca26"
             ],
             [
              1,
              "#f0f921"
             ]
            ],
            "type": "surface"
           }
          ],
          "table": [
           {
            "cells": {
             "fill": {
              "color": "#EBF0F8"
             },
             "line": {
              "color": "white"
             }
            },
            "header": {
             "fill": {
              "color": "#C8D4E3"
             },
             "line": {
              "color": "white"
             }
            },
            "type": "table"
           }
          ]
         },
         "layout": {
          "annotationdefaults": {
           "arrowcolor": "#2a3f5f",
           "arrowhead": 0,
           "arrowwidth": 1
          },
          "autotypenumbers": "strict",
          "coloraxis": {
           "colorbar": {
            "outlinewidth": 0,
            "ticks": ""
           }
          },
          "colorscale": {
           "diverging": [
            [
             0,
             "#8e0152"
            ],
            [
             0.1,
             "#c51b7d"
            ],
            [
             0.2,
             "#de77ae"
            ],
            [
             0.3,
             "#f1b6da"
            ],
            [
             0.4,
             "#fde0ef"
            ],
            [
             0.5,
             "#f7f7f7"
            ],
            [
             0.6,
             "#e6f5d0"
            ],
            [
             0.7,
             "#b8e186"
            ],
            [
             0.8,
             "#7fbc41"
            ],
            [
             0.9,
             "#4d9221"
            ],
            [
             1,
             "#276419"
            ]
           ],
           "sequential": [
            [
             0,
             "#0d0887"
            ],
            [
             0.1111111111111111,
             "#46039f"
            ],
            [
             0.2222222222222222,
             "#7201a8"
            ],
            [
             0.3333333333333333,
             "#9c179e"
            ],
            [
             0.4444444444444444,
             "#bd3786"
            ],
            [
             0.5555555555555556,
             "#d8576b"
            ],
            [
             0.6666666666666666,
             "#ed7953"
            ],
            [
             0.7777777777777778,
             "#fb9f3a"
            ],
            [
             0.8888888888888888,
             "#fdca26"
            ],
            [
             1,
             "#f0f921"
            ]
           ],
           "sequentialminus": [
            [
             0,
             "#0d0887"
            ],
            [
             0.1111111111111111,
             "#46039f"
            ],
            [
             0.2222222222222222,
             "#7201a8"
            ],
            [
             0.3333333333333333,
             "#9c179e"
            ],
            [
             0.4444444444444444,
             "#bd3786"
            ],
            [
             0.5555555555555556,
             "#d8576b"
            ],
            [
             0.6666666666666666,
             "#ed7953"
            ],
            [
             0.7777777777777778,
             "#fb9f3a"
            ],
            [
             0.8888888888888888,
             "#fdca26"
            ],
            [
             1,
             "#f0f921"
            ]
           ]
          },
          "colorway": [
           "#636efa",
           "#EF553B",
           "#00cc96",
           "#ab63fa",
           "#FFA15A",
           "#19d3f3",
           "#FF6692",
           "#B6E880",
           "#FF97FF",
           "#FECB52"
          ],
          "font": {
           "color": "#2a3f5f"
          },
          "geo": {
           "bgcolor": "white",
           "lakecolor": "white",
           "landcolor": "#E5ECF6",
           "showlakes": true,
           "showland": true,
           "subunitcolor": "white"
          },
          "hoverlabel": {
           "align": "left"
          },
          "hovermode": "closest",
          "mapbox": {
           "style": "light"
          },
          "paper_bgcolor": "white",
          "plot_bgcolor": "#E5ECF6",
          "polar": {
           "angularaxis": {
            "gridcolor": "white",
            "linecolor": "white",
            "ticks": ""
           },
           "bgcolor": "#E5ECF6",
           "radialaxis": {
            "gridcolor": "white",
            "linecolor": "white",
            "ticks": ""
           }
          },
          "scene": {
           "xaxis": {
            "backgroundcolor": "#E5ECF6",
            "gridcolor": "white",
            "gridwidth": 2,
            "linecolor": "white",
            "showbackground": true,
            "ticks": "",
            "zerolinecolor": "white"
           },
           "yaxis": {
            "backgroundcolor": "#E5ECF6",
            "gridcolor": "white",
            "gridwidth": 2,
            "linecolor": "white",
            "showbackground": true,
            "ticks": "",
            "zerolinecolor": "white"
           },
           "zaxis": {
            "backgroundcolor": "#E5ECF6",
            "gridcolor": "white",
            "gridwidth": 2,
            "linecolor": "white",
            "showbackground": true,
            "ticks": "",
            "zerolinecolor": "white"
           }
          },
          "shapedefaults": {
           "line": {
            "color": "#2a3f5f"
           }
          },
          "ternary": {
           "aaxis": {
            "gridcolor": "white",
            "linecolor": "white",
            "ticks": ""
           },
           "baxis": {
            "gridcolor": "white",
            "linecolor": "white",
            "ticks": ""
           },
           "bgcolor": "#E5ECF6",
           "caxis": {
            "gridcolor": "white",
            "linecolor": "white",
            "ticks": ""
           }
          },
          "title": {
           "x": 0.05
          },
          "xaxis": {
           "automargin": true,
           "gridcolor": "white",
           "linecolor": "white",
           "ticks": "",
           "title": {
            "standoff": 15
           },
           "zerolinecolor": "white",
           "zerolinewidth": 2
          },
          "yaxis": {
           "automargin": true,
           "gridcolor": "white",
           "linecolor": "white",
           "ticks": "",
           "title": {
            "standoff": 15
           },
           "zerolinecolor": "white",
           "zerolinewidth": 2
          }
         }
        },
        "title": {
         "text": "Actions taken vs. energy prices between 22 August - 27 August 2011"
        },
        "width": 900,
        "xaxis": {
         "mirror": true,
         "showline": true,
         "zeroline": false
        },
        "yaxis": {
         "mirror": true,
         "showline": true,
         "title": {
          "text": "Energy market price (Euro/MWh)"
         },
         "zeroline": false
        }
       }
      }
     },
     "metadata": {},
     "output_type": "display_data"
    }
   ],
   "source": [
    "buy_sell_hodl_plot(val, 5)"
   ]
  }
 ],
 "metadata": {
  "kernelspec": {
   "display_name": "project_rl_asgn",
   "language": "python",
   "name": "python3"
  },
  "language_info": {
   "codemirror_mode": {
    "name": "ipython",
    "version": 3
   },
   "file_extension": ".py",
   "mimetype": "text/x-python",
   "name": "python",
   "nbconvert_exporter": "python",
   "pygments_lexer": "ipython3",
   "version": "3.10.8"
  },
  "vscode": {
   "interpreter": {
    "hash": "fbabf998d7039075f5d858a6a5d1e46beb47c12201a23ca3f407e9b9517af609"
   }
  }
 },
 "nbformat": 4,
 "nbformat_minor": 5
}
