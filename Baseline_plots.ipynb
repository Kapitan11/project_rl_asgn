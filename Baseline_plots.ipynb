{
 "cells": [
  {
   "cell_type": "code",
   "execution_count": 1,
   "id": "343b4366",
   "metadata": {
    "ExecuteTime": {
     "end_time": "2023-01-19T02:46:43.276406Z",
     "start_time": "2023-01-19T02:46:42.776041Z"
    }
   },
   "outputs": [],
   "source": [
    "import numpy as np\n",
    "import pandas as pd\n",
    "from pandas.core.arrays.period import timedelta\n",
    "\n",
    "import plotly.graph_objs as go"
   ]
  },
  {
   "cell_type": "code",
   "execution_count": 2,
   "id": "7828a328",
   "metadata": {
    "ExecuteTime": {
     "end_time": "2023-01-19T02:46:43.290932Z",
     "start_time": "2023-01-19T02:46:43.279414Z"
    }
   },
   "outputs": [],
   "source": [
    "def rename_prices(df):\n",
    "    if 'PRICES' in df.columns:\n",
    "        df.rename(columns={\"PRICES\": \"datetime\"}, inplace = True)\n",
    "    else:\n",
    "        print(\"There's no column PRICES.\")\n",
    "\n",
    "\n",
    "def dataformatting(df):\n",
    "    #wide to long\n",
    "    df = df.melt(id_vars=['datetime'], value_vars=df.columns[1:25]).sort_values(['datetime', 'variable'])\n",
    "    df.reset_index(inplace=True, drop=True)\n",
    "    \n",
    "    #creating master time column, ulgy but works\n",
    "    time = df['datetime'].copy()\n",
    "    for d in range(len(df['datetime'])):\n",
    "        time[d] = df['datetime'][d]+timedelta(hours = d%24) #decided not to go for the +1, so hour 1 is midnight, makes more sense, now it ends in 2009, otherwise the last measurement was 01.01.2010 00:00:00\n",
    "    df['time'] = time\n",
    "    \n",
    "    #hour from string to int\n",
    "    df['variable'] = df['variable'].map(lambda x:int(x[-2:]))\n",
    "    \n",
    "    #renaming, shullfing columns (not important)\n",
    "    df.rename(columns={\"datetime\": \"date\", \"variable\": \"hour\", \"value\":\"price\"}, inplace = True)\n",
    "    cols = df.columns.tolist()\n",
    "    cols = cols[-1:] + cols[:-1]\n",
    "    df = df[cols]\n",
    "    \n",
    "    return df\n",
    "\n",
    "def drop_n_last_rows(df, n):\n",
    "    df.drop(df.tail(1).index,inplace=True)\n",
    "    \n",
    "def conv(fld):\n",
    "    if fld.endswith(b']'):\n",
    "        return float(fld[:-1])\n",
    "    elif fld.startswith(b'['):\n",
    "        return float(fld[1:])\n",
    "    else:\n",
    "        return float(fld)\n",
    "    \n",
    "def load_validation_results(txt_file_name:str='experiment_results.txt', actionBool = True):\n",
    "    val = pd.read_excel('./data/val_data/validate.xlsx')\n",
    "    rename_prices(val)\n",
    "    val = dataformatting(val)\n",
    "    \n",
    "    filename = './model/tabular_q/'+txt_file_name\n",
    "    \n",
    "    if actionBool:\n",
    "        # To load the actions (reward/mkt_price)\n",
    "        results = np.loadtxt(filename, delimiter=',', skiprows=3,max_rows = 1, dtype=float, converters=conv)\n",
    "    else:\n",
    "        # To load the rewards\n",
    "        results = np.loadtxt(filename, delimiter=',', skiprows=1,max_rows = 1, dtype=float, converters=conv)\n",
    "    \n",
    "    if len(val)>len(results):\n",
    "        # Drop the last row from validation data due to lack of action/reward taken when in that state \n",
    "        drop_n_last_rows(val, n=1)\n",
    "    \n",
    "    val['action'] = results\n",
    "    \n",
    "    return val"
   ]
  },
  {
   "cell_type": "code",
   "execution_count": 3,
   "id": "11205597",
   "metadata": {
    "ExecuteTime": {
     "end_time": "2023-01-19T02:46:44.398618Z",
     "start_time": "2023-01-19T02:46:43.293914Z"
    }
   },
   "outputs": [
    {
     "data": {
      "text/html": [
       "<div>\n",
       "<style scoped>\n",
       "    .dataframe tbody tr th:only-of-type {\n",
       "        vertical-align: middle;\n",
       "    }\n",
       "\n",
       "    .dataframe tbody tr th {\n",
       "        vertical-align: top;\n",
       "    }\n",
       "\n",
       "    .dataframe thead th {\n",
       "        text-align: right;\n",
       "    }\n",
       "</style>\n",
       "<table border=\"1\" class=\"dataframe\">\n",
       "  <thead>\n",
       "    <tr style=\"text-align: right;\">\n",
       "      <th></th>\n",
       "      <th>time</th>\n",
       "      <th>date</th>\n",
       "      <th>hour</th>\n",
       "      <th>price</th>\n",
       "      <th>action</th>\n",
       "    </tr>\n",
       "  </thead>\n",
       "  <tbody>\n",
       "    <tr>\n",
       "      <th>10760</th>\n",
       "      <td>2011-03-25 08:00:00</td>\n",
       "      <td>2011-03-25</td>\n",
       "      <td>9</td>\n",
       "      <td>66.71</td>\n",
       "      <td>1.05948</td>\n",
       "    </tr>\n",
       "    <tr>\n",
       "      <th>9930</th>\n",
       "      <td>2011-02-18 18:00:00</td>\n",
       "      <td>2011-02-18</td>\n",
       "      <td>19</td>\n",
       "      <td>68.41</td>\n",
       "      <td>0.00000</td>\n",
       "    </tr>\n",
       "    <tr>\n",
       "      <th>1712</th>\n",
       "      <td>2010-03-13 08:00:00</td>\n",
       "      <td>2010-03-13</td>\n",
       "      <td>9</td>\n",
       "      <td>34.00</td>\n",
       "      <td>0.00000</td>\n",
       "    </tr>\n",
       "    <tr>\n",
       "      <th>993</th>\n",
       "      <td>2010-02-11 09:00:00</td>\n",
       "      <td>2010-02-11</td>\n",
       "      <td>10</td>\n",
       "      <td>66.20</td>\n",
       "      <td>0.00000</td>\n",
       "    </tr>\n",
       "    <tr>\n",
       "      <th>13624</th>\n",
       "      <td>2011-07-22 16:00:00</td>\n",
       "      <td>2011-07-22</td>\n",
       "      <td>17</td>\n",
       "      <td>47.37</td>\n",
       "      <td>0.00000</td>\n",
       "    </tr>\n",
       "  </tbody>\n",
       "</table>\n",
       "</div>"
      ],
      "text/plain": [
       "                     time       date  hour  price   action\n",
       "10760 2011-03-25 08:00:00 2011-03-25     9  66.71  1.05948\n",
       "9930  2011-02-18 18:00:00 2011-02-18    19  68.41  0.00000\n",
       "1712  2010-03-13 08:00:00 2010-03-13     9  34.00  0.00000\n",
       "993   2010-02-11 09:00:00 2010-02-11    10  66.20  0.00000\n",
       "13624 2011-07-22 16:00:00 2011-07-22    17  47.37  0.00000"
      ]
     },
     "execution_count": 3,
     "metadata": {},
     "output_type": "execute_result"
    }
   ],
   "source": [
    "val=load_validation_results()\n",
    "val.sample(5)"
   ]
  },
  {
   "cell_type": "code",
   "execution_count": 4,
   "id": "df9cdea5",
   "metadata": {
    "ExecuteTime": {
     "end_time": "2023-01-19T02:46:44.409382Z",
     "start_time": "2023-01-19T02:46:44.402831Z"
    }
   },
   "outputs": [],
   "source": [
    "def buy_sell_hodl_plot(df, howmanydays=5):\n",
    "    howmanyhours=howmanydays*24\n",
    "    max_range=len(df)-howmanyhours\n",
    "    ri = np.random.randint(0, max_range)\n",
    "\n",
    "    trace=dict(type='scatter',\n",
    "              x=df.time[ri:ri+howmanyhours],\n",
    "              y=df.price[ri:ri+howmanyhours],\n",
    "              mode='lines+markers',\n",
    "              marker=dict(color= df.action[ri:ri+howmanyhours], \n",
    "                          colorscale='Cividis', size=7, colorbar=dict(thickness=20,tickvals=[df.action[ri:ri+howmanyhours].max(), 0.0, df.action[ri:ri+howmanyhours].min()], ticktext=['Sell', 'HODL','Buy'])))\n",
    "\n",
    "\n",
    "    axis_style=dict(zeroline=False, showline=True, mirror=True)\n",
    "    layout=dict(width=900, height=600, \n",
    "                title=f'Actions taken vs. energy prices between {df.time[ri].day} {df.time[ri].month_name()} - {df.time[ri+howmanyhours-1].day} {df.time[ri+howmanyhours-1].month_name()} {df.time[ri+howmanyhours-1].year}',\n",
    "                xaxis=axis_style,\n",
    "                yaxis=axis_style,\n",
    "                yaxis_title=\"Energy market price (Euro/MWh)\",\n",
    "               hovermode='closest', showlegend=False)\n",
    "    fw=go.FigureWidget(data=[trace], layout=layout)\n",
    "\n",
    "    fw.show()"
   ]
  },
  {
   "cell_type": "code",
   "execution_count": 5,
   "id": "873ea66f",
   "metadata": {
    "ExecuteTime": {
     "end_time": "2023-01-19T02:46:45.165892Z",
     "start_time": "2023-01-19T02:46:44.411269Z"
    }
   },
   "outputs": [
    {
     "data": {
      "application/vnd.plotly.v1+json": {
       "config": {
        "plotlyServerURL": "https://plot.ly"
       },
       "data": [
        {
         "marker": {
          "color": [
           0,
           0,
           0,
           0,
           0,
           0,
           0,
           0,
           0,
           0,
           0,
           0,
           0,
           -1.41264,
           -1.41264,
           -1.41264,
           -0.66708,
           0,
           1.32435,
           1.32435,
           0,
           1.03005,
           0,
           0,
           0,
           0,
           0,
           0,
           0,
           0,
           0,
           0,
           0,
           0,
           0,
           0,
           0,
           -1.41264,
           -1.41264,
           -1.41264,
           -0.66708,
           0,
           1.32435,
           1.32435,
           0,
           1.03005,
           0,
           0,
           0,
           0,
           0,
           0,
           0,
           0,
           0,
           0,
           0,
           0,
           0,
           0,
           0,
           -1.41264,
           -1.41264,
           -1.41264,
           -0.66708,
           0,
           1.32435,
           1.32435,
           0,
           1.03005,
           0,
           0,
           0,
           0,
           0,
           0,
           0,
           0,
           0,
           0,
           0,
           0,
           0,
           0,
           0,
           -1.41264,
           -1.41264,
           -1.41264,
           -0.66708,
           0,
           1.32435,
           1.32435,
           0,
           1.03005,
           0,
           0,
           0,
           0,
           0,
           0,
           0,
           0,
           0,
           0,
           0,
           0,
           0,
           0,
           0,
           -1.41264,
           -1.41264,
           -1.41264,
           -0.66708,
           0,
           1.32435,
           1.32435,
           0,
           1.03005,
           0,
           0
          ],
          "colorbar": {
           "thickness": 20,
           "ticktext": [
            "Sell",
            "HODL",
            "Buy"
           ],
           "tickvals": [
            1.32435,
            0,
            -1.41264
           ]
          },
          "colorscale": [
           [
            0,
            "#00224e"
           ],
           [
            0.1111111111111111,
            "#123570"
           ],
           [
            0.2222222222222222,
            "#3b496c"
           ],
           [
            0.3333333333333333,
            "#575d6d"
           ],
           [
            0.4444444444444444,
            "#707173"
           ],
           [
            0.5555555555555556,
            "#8a8678"
           ],
           [
            0.6666666666666666,
            "#a59c74"
           ],
           [
            0.7777777777777778,
            "#c3b369"
           ],
           [
            0.8888888888888888,
            "#e1cc55"
           ],
           [
            1,
            "#fee838"
           ]
          ],
          "size": 7
         },
         "mode": "lines+markers",
         "type": "scatter",
         "uid": "49135d6c-084d-499e-b486-0f5fea4a1770",
         "x": [
          "2010-06-13T14:00:00",
          "2010-06-13T15:00:00",
          "2010-06-13T16:00:00",
          "2010-06-13T17:00:00",
          "2010-06-13T18:00:00",
          "2010-06-13T19:00:00",
          "2010-06-13T20:00:00",
          "2010-06-13T21:00:00",
          "2010-06-13T22:00:00",
          "2010-06-13T23:00:00",
          "2010-06-14T00:00:00",
          "2010-06-14T01:00:00",
          "2010-06-14T02:00:00",
          "2010-06-14T03:00:00",
          "2010-06-14T04:00:00",
          "2010-06-14T05:00:00",
          "2010-06-14T06:00:00",
          "2010-06-14T07:00:00",
          "2010-06-14T08:00:00",
          "2010-06-14T09:00:00",
          "2010-06-14T10:00:00",
          "2010-06-14T11:00:00",
          "2010-06-14T12:00:00",
          "2010-06-14T13:00:00",
          "2010-06-14T14:00:00",
          "2010-06-14T15:00:00",
          "2010-06-14T16:00:00",
          "2010-06-14T17:00:00",
          "2010-06-14T18:00:00",
          "2010-06-14T19:00:00",
          "2010-06-14T20:00:00",
          "2010-06-14T21:00:00",
          "2010-06-14T22:00:00",
          "2010-06-14T23:00:00",
          "2010-06-15T00:00:00",
          "2010-06-15T01:00:00",
          "2010-06-15T02:00:00",
          "2010-06-15T03:00:00",
          "2010-06-15T04:00:00",
          "2010-06-15T05:00:00",
          "2010-06-15T06:00:00",
          "2010-06-15T07:00:00",
          "2010-06-15T08:00:00",
          "2010-06-15T09:00:00",
          "2010-06-15T10:00:00",
          "2010-06-15T11:00:00",
          "2010-06-15T12:00:00",
          "2010-06-15T13:00:00",
          "2010-06-15T14:00:00",
          "2010-06-15T15:00:00",
          "2010-06-15T16:00:00",
          "2010-06-15T17:00:00",
          "2010-06-15T18:00:00",
          "2010-06-15T19:00:00",
          "2010-06-15T20:00:00",
          "2010-06-15T21:00:00",
          "2010-06-15T22:00:00",
          "2010-06-15T23:00:00",
          "2010-06-16T00:00:00",
          "2010-06-16T01:00:00",
          "2010-06-16T02:00:00",
          "2010-06-16T03:00:00",
          "2010-06-16T04:00:00",
          "2010-06-16T05:00:00",
          "2010-06-16T06:00:00",
          "2010-06-16T07:00:00",
          "2010-06-16T08:00:00",
          "2010-06-16T09:00:00",
          "2010-06-16T10:00:00",
          "2010-06-16T11:00:00",
          "2010-06-16T12:00:00",
          "2010-06-16T13:00:00",
          "2010-06-16T14:00:00",
          "2010-06-16T15:00:00",
          "2010-06-16T16:00:00",
          "2010-06-16T17:00:00",
          "2010-06-16T18:00:00",
          "2010-06-16T19:00:00",
          "2010-06-16T20:00:00",
          "2010-06-16T21:00:00",
          "2010-06-16T22:00:00",
          "2010-06-16T23:00:00",
          "2010-06-17T00:00:00",
          "2010-06-17T01:00:00",
          "2010-06-17T02:00:00",
          "2010-06-17T03:00:00",
          "2010-06-17T04:00:00",
          "2010-06-17T05:00:00",
          "2010-06-17T06:00:00",
          "2010-06-17T07:00:00",
          "2010-06-17T08:00:00",
          "2010-06-17T09:00:00",
          "2010-06-17T10:00:00",
          "2010-06-17T11:00:00",
          "2010-06-17T12:00:00",
          "2010-06-17T13:00:00",
          "2010-06-17T14:00:00",
          "2010-06-17T15:00:00",
          "2010-06-17T16:00:00",
          "2010-06-17T17:00:00",
          "2010-06-17T18:00:00",
          "2010-06-17T19:00:00",
          "2010-06-17T20:00:00",
          "2010-06-17T21:00:00",
          "2010-06-17T22:00:00",
          "2010-06-17T23:00:00",
          "2010-06-18T00:00:00",
          "2010-06-18T01:00:00",
          "2010-06-18T02:00:00",
          "2010-06-18T03:00:00",
          "2010-06-18T04:00:00",
          "2010-06-18T05:00:00",
          "2010-06-18T06:00:00",
          "2010-06-18T07:00:00",
          "2010-06-18T08:00:00",
          "2010-06-18T09:00:00",
          "2010-06-18T10:00:00",
          "2010-06-18T11:00:00",
          "2010-06-18T12:00:00",
          "2010-06-18T13:00:00"
         ],
         "y": [
          23.58,
          20.23,
          16.12,
          16.47,
          19.91,
          21.52,
          21.27,
          23.55,
          43.43,
          30.32,
          22.92,
          20.36,
          15.91,
          7.25,
          12.72,
          11.08,
          33.1,
          48.8,
          55.45,
          63,
          65.5,
          73.5,
          67.89,
          64.56,
          62.19,
          55.34,
          54.29,
          53.03,
          53.04,
          50.13,
          49.22,
          45.11,
          48,
          42.01,
          33.2,
          26.13,
          19.7,
          13.03,
          14.27,
          17.88,
          37.66,
          49.98,
          55.32,
          58.1,
          62.64,
          69.24,
          62.2,
          60.5,
          56.59,
          52,
          50.74,
          49.06,
          49.06,
          48.09,
          43.02,
          39.76,
          44.48,
          38.25,
          32.66,
          29.99,
          21.6,
          10.49,
          10.18,
          17.81,
          34.04,
          48.38,
          52.74,
          55.81,
          58.12,
          63.22,
          57.84,
          56.44,
          55.36,
          51.55,
          51,
          49.95,
          49.47,
          47.05,
          44.29,
          43.11,
          47.16,
          40.5,
          36.39,
          35,
          28.05,
          20,
          20.04,
          30,
          42.4,
          51.77,
          56.44,
          59.2,
          62,
          67.21,
          63,
          60.39,
          58.85,
          53.9,
          53.11,
          52.95,
          53.56,
          53.3,
          49.57,
          47.74,
          53.99,
          47,
          44.8,
          40.59,
          35.5,
          28.1,
          28.09,
          32.45,
          40.11,
          54,
          56.19,
          58.36,
          62.24,
          66.18,
          61.1,
          55.09
         ]
        }
       ],
       "layout": {
        "height": 600,
        "hovermode": "closest",
        "showlegend": false,
        "template": {
         "data": {
          "bar": [
           {
            "error_x": {
             "color": "#2a3f5f"
            },
            "error_y": {
             "color": "#2a3f5f"
            },
            "marker": {
             "line": {
              "color": "#E5ECF6",
              "width": 0.5
             },
             "pattern": {
              "fillmode": "overlay",
              "size": 10,
              "solidity": 0.2
             }
            },
            "type": "bar"
           }
          ],
          "barpolar": [
           {
            "marker": {
             "line": {
              "color": "#E5ECF6",
              "width": 0.5
             },
             "pattern": {
              "fillmode": "overlay",
              "size": 10,
              "solidity": 0.2
             }
            },
            "type": "barpolar"
           }
          ],
          "carpet": [
           {
            "aaxis": {
             "endlinecolor": "#2a3f5f",
             "gridcolor": "white",
             "linecolor": "white",
             "minorgridcolor": "white",
             "startlinecolor": "#2a3f5f"
            },
            "baxis": {
             "endlinecolor": "#2a3f5f",
             "gridcolor": "white",
             "linecolor": "white",
             "minorgridcolor": "white",
             "startlinecolor": "#2a3f5f"
            },
            "type": "carpet"
           }
          ],
          "choropleth": [
           {
            "colorbar": {
             "outlinewidth": 0,
             "ticks": ""
            },
            "type": "choropleth"
           }
          ],
          "contour": [
           {
            "colorbar": {
             "outlinewidth": 0,
             "ticks": ""
            },
            "colorscale": [
             [
              0,
              "#0d0887"
             ],
             [
              0.1111111111111111,
              "#46039f"
             ],
             [
              0.2222222222222222,
              "#7201a8"
             ],
             [
              0.3333333333333333,
              "#9c179e"
             ],
             [
              0.4444444444444444,
              "#bd3786"
             ],
             [
              0.5555555555555556,
              "#d8576b"
             ],
             [
              0.6666666666666666,
              "#ed7953"
             ],
             [
              0.7777777777777778,
              "#fb9f3a"
             ],
             [
              0.8888888888888888,
              "#fdca26"
             ],
             [
              1,
              "#f0f921"
             ]
            ],
            "type": "contour"
           }
          ],
          "contourcarpet": [
           {
            "colorbar": {
             "outlinewidth": 0,
             "ticks": ""
            },
            "type": "contourcarpet"
           }
          ],
          "heatmap": [
           {
            "colorbar": {
             "outlinewidth": 0,
             "ticks": ""
            },
            "colorscale": [
             [
              0,
              "#0d0887"
             ],
             [
              0.1111111111111111,
              "#46039f"
             ],
             [
              0.2222222222222222,
              "#7201a8"
             ],
             [
              0.3333333333333333,
              "#9c179e"
             ],
             [
              0.4444444444444444,
              "#bd3786"
             ],
             [
              0.5555555555555556,
              "#d8576b"
             ],
             [
              0.6666666666666666,
              "#ed7953"
             ],
             [
              0.7777777777777778,
              "#fb9f3a"
             ],
             [
              0.8888888888888888,
              "#fdca26"
             ],
             [
              1,
              "#f0f921"
             ]
            ],
            "type": "heatmap"
           }
          ],
          "heatmapgl": [
           {
            "colorbar": {
             "outlinewidth": 0,
             "ticks": ""
            },
            "colorscale": [
             [
              0,
              "#0d0887"
             ],
             [
              0.1111111111111111,
              "#46039f"
             ],
             [
              0.2222222222222222,
              "#7201a8"
             ],
             [
              0.3333333333333333,
              "#9c179e"
             ],
             [
              0.4444444444444444,
              "#bd3786"
             ],
             [
              0.5555555555555556,
              "#d8576b"
             ],
             [
              0.6666666666666666,
              "#ed7953"
             ],
             [
              0.7777777777777778,
              "#fb9f3a"
             ],
             [
              0.8888888888888888,
              "#fdca26"
             ],
             [
              1,
              "#f0f921"
             ]
            ],
            "type": "heatmapgl"
           }
          ],
          "histogram": [
           {
            "marker": {
             "pattern": {
              "fillmode": "overlay",
              "size": 10,
              "solidity": 0.2
             }
            },
            "type": "histogram"
           }
          ],
          "histogram2d": [
           {
            "colorbar": {
             "outlinewidth": 0,
             "ticks": ""
            },
            "colorscale": [
             [
              0,
              "#0d0887"
             ],
             [
              0.1111111111111111,
              "#46039f"
             ],
             [
              0.2222222222222222,
              "#7201a8"
             ],
             [
              0.3333333333333333,
              "#9c179e"
             ],
             [
              0.4444444444444444,
              "#bd3786"
             ],
             [
              0.5555555555555556,
              "#d8576b"
             ],
             [
              0.6666666666666666,
              "#ed7953"
             ],
             [
              0.7777777777777778,
              "#fb9f3a"
             ],
             [
              0.8888888888888888,
              "#fdca26"
             ],
             [
              1,
              "#f0f921"
             ]
            ],
            "type": "histogram2d"
           }
          ],
          "histogram2dcontour": [
           {
            "colorbar": {
             "outlinewidth": 0,
             "ticks": ""
            },
            "colorscale": [
             [
              0,
              "#0d0887"
             ],
             [
              0.1111111111111111,
              "#46039f"
             ],
             [
              0.2222222222222222,
              "#7201a8"
             ],
             [
              0.3333333333333333,
              "#9c179e"
             ],
             [
              0.4444444444444444,
              "#bd3786"
             ],
             [
              0.5555555555555556,
              "#d8576b"
             ],
             [
              0.6666666666666666,
              "#ed7953"
             ],
             [
              0.7777777777777778,
              "#fb9f3a"
             ],
             [
              0.8888888888888888,
              "#fdca26"
             ],
             [
              1,
              "#f0f921"
             ]
            ],
            "type": "histogram2dcontour"
           }
          ],
          "mesh3d": [
           {
            "colorbar": {
             "outlinewidth": 0,
             "ticks": ""
            },
            "type": "mesh3d"
           }
          ],
          "parcoords": [
           {
            "line": {
             "colorbar": {
              "outlinewidth": 0,
              "ticks": ""
             }
            },
            "type": "parcoords"
           }
          ],
          "pie": [
           {
            "automargin": true,
            "type": "pie"
           }
          ],
          "scatter": [
           {
            "fillpattern": {
             "fillmode": "overlay",
             "size": 10,
             "solidity": 0.2
            },
            "type": "scatter"
           }
          ],
          "scatter3d": [
           {
            "line": {
             "colorbar": {
              "outlinewidth": 0,
              "ticks": ""
             }
            },
            "marker": {
             "colorbar": {
              "outlinewidth": 0,
              "ticks": ""
             }
            },
            "type": "scatter3d"
           }
          ],
          "scattercarpet": [
           {
            "marker": {
             "colorbar": {
              "outlinewidth": 0,
              "ticks": ""
             }
            },
            "type": "scattercarpet"
           }
          ],
          "scattergeo": [
           {
            "marker": {
             "colorbar": {
              "outlinewidth": 0,
              "ticks": ""
             }
            },
            "type": "scattergeo"
           }
          ],
          "scattergl": [
           {
            "marker": {
             "colorbar": {
              "outlinewidth": 0,
              "ticks": ""
             }
            },
            "type": "scattergl"
           }
          ],
          "scattermapbox": [
           {
            "marker": {
             "colorbar": {
              "outlinewidth": 0,
              "ticks": ""
             }
            },
            "type": "scattermapbox"
           }
          ],
          "scatterpolar": [
           {
            "marker": {
             "colorbar": {
              "outlinewidth": 0,
              "ticks": ""
             }
            },
            "type": "scatterpolar"
           }
          ],
          "scatterpolargl": [
           {
            "marker": {
             "colorbar": {
              "outlinewidth": 0,
              "ticks": ""
             }
            },
            "type": "scatterpolargl"
           }
          ],
          "scatterternary": [
           {
            "marker": {
             "colorbar": {
              "outlinewidth": 0,
              "ticks": ""
             }
            },
            "type": "scatterternary"
           }
          ],
          "surface": [
           {
            "colorbar": {
             "outlinewidth": 0,
             "ticks": ""
            },
            "colorscale": [
             [
              0,
              "#0d0887"
             ],
             [
              0.1111111111111111,
              "#46039f"
             ],
             [
              0.2222222222222222,
              "#7201a8"
             ],
             [
              0.3333333333333333,
              "#9c179e"
             ],
             [
              0.4444444444444444,
              "#bd3786"
             ],
             [
              0.5555555555555556,
              "#d8576b"
             ],
             [
              0.6666666666666666,
              "#ed7953"
             ],
             [
              0.7777777777777778,
              "#fb9f3a"
             ],
             [
              0.8888888888888888,
              "#fdca26"
             ],
             [
              1,
              "#f0f921"
             ]
            ],
            "type": "surface"
           }
          ],
          "table": [
           {
            "cells": {
             "fill": {
              "color": "#EBF0F8"
             },
             "line": {
              "color": "white"
             }
            },
            "header": {
             "fill": {
              "color": "#C8D4E3"
             },
             "line": {
              "color": "white"
             }
            },
            "type": "table"
           }
          ]
         },
         "layout": {
          "annotationdefaults": {
           "arrowcolor": "#2a3f5f",
           "arrowhead": 0,
           "arrowwidth": 1
          },
          "autotypenumbers": "strict",
          "coloraxis": {
           "colorbar": {
            "outlinewidth": 0,
            "ticks": ""
           }
          },
          "colorscale": {
           "diverging": [
            [
             0,
             "#8e0152"
            ],
            [
             0.1,
             "#c51b7d"
            ],
            [
             0.2,
             "#de77ae"
            ],
            [
             0.3,
             "#f1b6da"
            ],
            [
             0.4,
             "#fde0ef"
            ],
            [
             0.5,
             "#f7f7f7"
            ],
            [
             0.6,
             "#e6f5d0"
            ],
            [
             0.7,
             "#b8e186"
            ],
            [
             0.8,
             "#7fbc41"
            ],
            [
             0.9,
             "#4d9221"
            ],
            [
             1,
             "#276419"
            ]
           ],
           "sequential": [
            [
             0,
             "#0d0887"
            ],
            [
             0.1111111111111111,
             "#46039f"
            ],
            [
             0.2222222222222222,
             "#7201a8"
            ],
            [
             0.3333333333333333,
             "#9c179e"
            ],
            [
             0.4444444444444444,
             "#bd3786"
            ],
            [
             0.5555555555555556,
             "#d8576b"
            ],
            [
             0.6666666666666666,
             "#ed7953"
            ],
            [
             0.7777777777777778,
             "#fb9f3a"
            ],
            [
             0.8888888888888888,
             "#fdca26"
            ],
            [
             1,
             "#f0f921"
            ]
           ],
           "sequentialminus": [
            [
             0,
             "#0d0887"
            ],
            [
             0.1111111111111111,
             "#46039f"
            ],
            [
             0.2222222222222222,
             "#7201a8"
            ],
            [
             0.3333333333333333,
             "#9c179e"
            ],
            [
             0.4444444444444444,
             "#bd3786"
            ],
            [
             0.5555555555555556,
             "#d8576b"
            ],
            [
             0.6666666666666666,
             "#ed7953"
            ],
            [
             0.7777777777777778,
             "#fb9f3a"
            ],
            [
             0.8888888888888888,
             "#fdca26"
            ],
            [
             1,
             "#f0f921"
            ]
           ]
          },
          "colorway": [
           "#636efa",
           "#EF553B",
           "#00cc96",
           "#ab63fa",
           "#FFA15A",
           "#19d3f3",
           "#FF6692",
           "#B6E880",
           "#FF97FF",
           "#FECB52"
          ],
          "font": {
           "color": "#2a3f5f"
          },
          "geo": {
           "bgcolor": "white",
           "lakecolor": "white",
           "landcolor": "#E5ECF6",
           "showlakes": true,
           "showland": true,
           "subunitcolor": "white"
          },
          "hoverlabel": {
           "align": "left"
          },
          "hovermode": "closest",
          "mapbox": {
           "style": "light"
          },
          "paper_bgcolor": "white",
          "plot_bgcolor": "#E5ECF6",
          "polar": {
           "angularaxis": {
            "gridcolor": "white",
            "linecolor": "white",
            "ticks": ""
           },
           "bgcolor": "#E5ECF6",
           "radialaxis": {
            "gridcolor": "white",
            "linecolor": "white",
            "ticks": ""
           }
          },
          "scene": {
           "xaxis": {
            "backgroundcolor": "#E5ECF6",
            "gridcolor": "white",
            "gridwidth": 2,
            "linecolor": "white",
            "showbackground": true,
            "ticks": "",
            "zerolinecolor": "white"
           },
           "yaxis": {
            "backgroundcolor": "#E5ECF6",
            "gridcolor": "white",
            "gridwidth": 2,
            "linecolor": "white",
            "showbackground": true,
            "ticks": "",
            "zerolinecolor": "white"
           },
           "zaxis": {
            "backgroundcolor": "#E5ECF6",
            "gridcolor": "white",
            "gridwidth": 2,
            "linecolor": "white",
            "showbackground": true,
            "ticks": "",
            "zerolinecolor": "white"
           }
          },
          "shapedefaults": {
           "line": {
            "color": "#2a3f5f"
           }
          },
          "ternary": {
           "aaxis": {
            "gridcolor": "white",
            "linecolor": "white",
            "ticks": ""
           },
           "baxis": {
            "gridcolor": "white",
            "linecolor": "white",
            "ticks": ""
           },
           "bgcolor": "#E5ECF6",
           "caxis": {
            "gridcolor": "white",
            "linecolor": "white",
            "ticks": ""
           }
          },
          "title": {
           "x": 0.05
          },
          "xaxis": {
           "automargin": true,
           "gridcolor": "white",
           "linecolor": "white",
           "ticks": "",
           "title": {
            "standoff": 15
           },
           "zerolinecolor": "white",
           "zerolinewidth": 2
          },
          "yaxis": {
           "automargin": true,
           "gridcolor": "white",
           "linecolor": "white",
           "ticks": "",
           "title": {
            "standoff": 15
           },
           "zerolinecolor": "white",
           "zerolinewidth": 2
          }
         }
        },
        "title": {
         "text": "Actions taken vs. energy prices between 13 June - 18 June 2010"
        },
        "width": 900,
        "xaxis": {
         "mirror": true,
         "showline": true,
         "zeroline": false
        },
        "yaxis": {
         "mirror": true,
         "showline": true,
         "title": {
          "text": "Energy market price (Euro/MWh)"
         },
         "zeroline": false
        }
       }
      }
     },
     "metadata": {},
     "output_type": "display_data"
    }
   ],
   "source": [
    "buy_sell_hodl_plot(val, 5)"
   ]
  }
 ],
 "metadata": {
  "kernelspec": {
   "display_name": "project_rl_asgn",
   "language": "python",
   "name": "python3"
  },
  "language_info": {
   "codemirror_mode": {
    "name": "ipython",
    "version": 3
   },
   "file_extension": ".py",
   "mimetype": "text/x-python",
   "name": "python",
   "nbconvert_exporter": "python",
   "pygments_lexer": "ipython3",
   "version": "3.10.8"
  },
  "vscode": {
   "interpreter": {
    "hash": "fbabf998d7039075f5d858a6a5d1e46beb47c12201a23ca3f407e9b9517af609"
   }
  }
 },
 "nbformat": 4,
 "nbformat_minor": 5
}
