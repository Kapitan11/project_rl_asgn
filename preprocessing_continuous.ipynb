{
  "cells": [
    {
      "cell_type": "code",
      "execution_count": 8,
      "id": "29033954",
      "metadata": {
        "ExecuteTime": {
          "end_time": "2023-01-17T13:13:13.682550Z",
          "start_time": "2023-01-17T13:13:13.679009Z"
        },
        "id": "29033954"
      },
      "outputs": [],
      "source": [
        "import pandas as pd\n",
        "from pandas.core.arrays.period import timedelta\n",
        "\n",
        "import numpy as np\n",
        "\n",
        "import seaborn as sns\n",
        "import matplotlib.pyplot as plt\n",
        "import plotly.express as px\n",
        "import plotly.graph_objects as go\n",
        "\n",
        "import os"
      ]
    },
    {
      "cell_type": "code",
      "execution_count": 9,
      "id": "82db163d",
      "metadata": {
        "ExecuteTime": {
          "end_time": "2023-01-17T13:14:50.322254Z",
          "start_time": "2023-01-17T13:14:50.318262Z"
        },
        "id": "82db163d"
      },
      "outputs": [],
      "source": [
        "def missing_val_count_by_column (df) :\n",
        "    nan_count = (df.isnull().sum())\n",
        "    print(nan_count[nan_count > 0]) \n",
        "    \n",
        "def check_nans (df):\n",
        "    is_NaN = df. isnull()\n",
        "    row_has_NaN = is_NaN. any(axis=1)\n",
        "    rows_with_NaN = df[row_has_NaN]\n",
        "    return rows_with_NaN"
      ]
    },
    {
      "cell_type": "code",
      "execution_count": 10,
      "id": "acd0c270",
      "metadata": {
        "ExecuteTime": {
          "end_time": "2023-01-17T13:13:26.109447Z",
          "start_time": "2023-01-17T13:13:25.274373Z"
        },
        "id": "acd0c270"
      },
      "outputs": [],
      "source": [
        "#train = pd.read_excel('./data/train_data/train.xlsx')\n",
        "#val = pd.read_excel('./data/val_data/validate.xlsx')\n",
        "train = pd.read_excel('/content/train.xlsx')\n",
        "val = pd.read_excel('/content/validate.xlsx')"
      ]
    },
    {
      "cell_type": "code",
      "execution_count": 11,
      "id": "0e5e8f5c",
      "metadata": {
        "ExecuteTime": {
          "end_time": "2023-01-17T13:14:55.194910Z",
          "start_time": "2023-01-17T13:14:55.185048Z"
        },
        "colab": {
          "base_uri": "https://localhost:8080/"
        },
        "id": "0e5e8f5c",
        "outputId": "eea90fe3-bc51-4e60-99e2-11e1130db897"
      },
      "outputs": [
        {
          "output_type": "stream",
          "name": "stdout",
          "text": [
            "(1096, 25) (730, 25)\n",
            "Series([], dtype: int64)\n",
            "Series([], dtype: int64)\n"
          ]
        }
      ],
      "source": [
        "print(train.shape, val.shape)\n",
        "missing_val_count_by_column(train)\n",
        "missing_val_count_by_column(val)"
      ]
    },
    {
      "cell_type": "code",
      "execution_count": 12,
      "id": "af8fa513",
      "metadata": {
        "ExecuteTime": {
          "end_time": "2023-01-17T13:14:56.286158Z",
          "start_time": "2023-01-17T13:14:56.273165Z"
        },
        "id": "af8fa513"
      },
      "outputs": [],
      "source": [
        "def create_avg_day(df):\n",
        "    if 'avg_day' not in df.columns:\n",
        "        df['avg_day']=df.iloc[:, 1:].mean(axis = 1)\n",
        "    else:\n",
        "        print(\"There's already a column avg_day! No need to create another one.\")\n",
        "        \n",
        "        \n",
        "def rename_prices(df):\n",
        "    if 'PRICES' in df.columns:\n",
        "        df.rename(columns={\"PRICES\": \"datetime\"}, inplace = True)\n",
        "    else:\n",
        "        print(\"There's no column PRICES.\")    "
      ]
    },
    {
      "cell_type": "code",
      "execution_count": 13,
      "id": "10ed83e9",
      "metadata": {
        "ExecuteTime": {
          "end_time": "2023-01-17T13:14:58.061595Z",
          "start_time": "2023-01-17T13:14:58.050041Z"
        },
        "id": "10ed83e9"
      },
      "outputs": [],
      "source": [
        "create_avg_day(train)\n",
        "rename_prices(train)\n",
        "\n",
        "create_avg_day(val)\n",
        "rename_prices(val)"
      ]
    },
    {
      "cell_type": "markdown",
      "id": "936da4b8",
      "metadata": {
        "id": "936da4b8"
      },
      "source": [
        "Date formatter: https://github.com/d3/d3-time-format/tree/v2.2.3#locale_format"
      ]
    },
    {
      "cell_type": "markdown",
      "id": "IB9DIMt-c0r0",
      "metadata": {
        "id": "IB9DIMt-c0r0"
      },
      "source": [
        "# Data Formatting"
      ]
    },
    {
      "cell_type": "code",
      "execution_count": 14,
      "id": "129efe2e",
      "metadata": {
        "ExecuteTime": {
          "end_time": "2023-01-17T13:15:04.844566Z",
          "start_time": "2023-01-17T13:15:04.838381Z"
        },
        "id": "129efe2e"
      },
      "outputs": [],
      "source": [
        "def dataformatting(df):\n",
        "    #wide to long\n",
        "    df = df.melt(id_vars=['datetime'], value_vars=df.columns[1:25]).sort_values(['datetime', 'variable'])\n",
        "    df.reset_index(inplace=True, drop=True)\n",
        "    \n",
        "    #creating master time column, ulgy but works\n",
        "    time = df['datetime'].copy()\n",
        "    for d in range(len(df['datetime'])):\n",
        "        time[d] = df['datetime'][d]+timedelta(hours = d%24) #decided not to go for the +1, so hour 1 is midnight, makes more sense, now it ends in 2009, otherwise the last measurement was 01.01.2010 00:00:00\n",
        "    df['time'] = time\n",
        "    \n",
        "    #hour from string to int\n",
        "    df['variable'] = df['variable'].map(lambda x:int(x[-2:]))\n",
        "    \n",
        "    #renaming, shullfing columns (not important)\n",
        "    df.rename(columns={\"datetime\": \"date\", \"variable\": \"hour\", \"value\":\"price\"}, inplace = True)\n",
        "\n",
        "    df['month'] = pd.DatetimeIndex(df['time']).month\n",
        "    df['day'] = pd.DatetimeIndex(df['time']).day\n",
        "    df['hour'] = pd.DatetimeIndex(df['time']).hour + 1\n",
        "\n",
        "    cols = df.columns.tolist()\n",
        "    cols = [cols[0]] + [cols[3]] + [cols[2]] + [cols[4]] + [cols[5]] + [cols[1]]\n",
        "    df = df[cols]\n",
        "    \n",
        "    return df\n",
        "    "
      ]
    },
    {
      "cell_type": "markdown",
      "source": [
        "TO DO:\n",
        "- make pipeline for big and small dfs\n",
        "- remove 2 first columns at the end!"
      ],
      "metadata": {
        "id": "6jC9OWsMOVcA"
      },
      "id": "6jC9OWsMOVcA"
    },
    {
      "cell_type": "markdown",
      "source": [
        "# Features"
      ],
      "metadata": {
        "id": "jyC7sXzAKIAU"
      },
      "id": "jyC7sXzAKIAU"
    },
    {
      "cell_type": "markdown",
      "source": [
        "Long Term: \n",
        "- (hourly) bollinger bands (5d, 14d, 30d)\n",
        "- (hourly) EMA (5d, 14d, 30d)\n",
        "- (daily) ATR (5d, 14d, 30d)\n",
        "- (hourly) stochastic oscilator (5d + smoothed, 14d + smoothed, 30d + smoothed)\n",
        "\n",
        "Short Term:\n",
        "- (hourly) bollinger bands (8h, 24h)\n",
        "- (hourly) EMA (8h, 24h)\n",
        "- (hourly) stochastic oscilator (24h + smoothed)"
      ],
      "metadata": {
        "id": "-ZUe5f50KN6C"
      },
      "id": "-ZUe5f50KN6C"
    },
    {
      "cell_type": "markdown",
      "id": "7d43c4ec",
      "metadata": {
        "id": "7d43c4ec"
      },
      "source": [
        "## Bollinger Bands\n",
        "A Bollinger Band is a technical analysis tool defined by a set of lines plotted two standard deviations (positively and negatively) away from a simple moving average (SMA) of the Stocks’ price Bollinger Bands allow traders to monitor and take advantage of shifts in price volatilities\n",
        "\n",
        "Main Components of a Bollinger Bands:\n",
        " - Upper Band: The upper band is simply two standard deviations above the moving average of a stock’s price.\n",
        " - Middle Band: The middle band is simply the moving average of the stock’s price.\n",
        " - Lower Band: Two standard deviations below the moving average is the lower band.\n",
        " \n",
        "Bollinger Bands allow traders to monitor and take advantage of shifts in price volatilities.\n",
        "\n",
        "When calculating the SMA for Bollinger bands, traders typically use a 20 day SMA. Here is how you would calculate the SMA of a stock."
      ]
    },
    {
      "cell_type": "code",
      "source": [
        "def bollinger_bands(df, hours):\n",
        "    out = df.copy()\n",
        "    rolled_mean = out['price'].rolling(hours).mean() \n",
        "    rolled_mean.reset_index(inplace=True, drop=True)\n",
        "    for i in range (1,hours):\n",
        "        short = out['price'][0:i]\n",
        "        rolled_mean.loc[i-1] = short.mean()\n",
        "    \n",
        "    rolled_std = out['price'].rolling(hours).std() \n",
        "    rolled_std.reset_index(inplace=True, drop=True)\n",
        "    for i in range (1,hours):\n",
        "        # that's an estimation, first few points are quite bad but evens out quickly\n",
        "        short = out['price'][0:i+5] #to make it less biased, i+5, so no 0 at the beginning etc\n",
        "        rolled_std.loc[i-1] = short.std()\n",
        "\n",
        "    bollinger_up = rolled_mean + rolled_std * 2 # Calculate top band\n",
        "    bollinger_middle = rolled_mean\n",
        "    bollinger_down = rolled_mean - rolled_std * 2 # Calculate bottom band\n",
        "\n",
        "    out[f'{hours}h / {int(hours/24)}day bollinger down'] = bollinger_down\n",
        "    out[f'{hours}h / {int(hours/24)}day bollinger middle'] = bollinger_middle\n",
        "    out[f'{hours}h / {int(hours/24)}day bollinger up'] = bollinger_up\n",
        "\n",
        "    return out"
      ],
      "metadata": {
        "id": "nARyLYvSrJJe"
      },
      "id": "nARyLYvSrJJe",
      "execution_count": 15,
      "outputs": []
    },
    {
      "cell_type": "markdown",
      "id": "36e4738e",
      "metadata": {
        "id": "36e4738e"
      },
      "source": [
        "## Exponential moving average (EMA)\n",
        "An exponential moving average (EMA) is a type of moving average (MA) that places a greater weight and significance on the most recent data points. The exponential moving average is also referred to as the exponentially weighted moving average. An exponentially weighted moving average reacts more significantly to recent price changes than a simple moving average (SMA), which applies an equal weight to all observations in the period.\n",
        "\n",
        "One of the most popular EMA spans to use are: 8, 12, 20 (for short term trading) and 50, 200 (for long term)\n",
        "\n",
        "Some traders use Fibonacci numbers (5, 8, 13, 21 ...) to select moving averages."
      ]
    },
    {
      "cell_type": "markdown",
      "id": "a37556fc",
      "metadata": {
        "id": "a37556fc"
      },
      "source": [
        "In general, the 50- and 200-day EMAs are used as indicators for long-term trends. When a stock price crosses its 200-day moving average, it is a technical signal that a reversal has occurred."
      ]
    },
    {
      "cell_type": "code",
      "execution_count": 16,
      "id": "hQZtnlbZw7Z-",
      "metadata": {
        "ExecuteTime": {
          "end_time": "2023-01-17T13:15:09.630582Z",
          "start_time": "2023-01-17T13:15:09.627020Z"
        },
        "id": "hQZtnlbZw7Z-"
      },
      "outputs": [],
      "source": [
        "def get_ema(df, period_length:int):\n",
        "    #returns a new df, which contains new column\n",
        "    x = df.copy()\n",
        "    x[f'{period_length}h / {int(period_length/24)}day EMA'] = x['price'].ewm(span=period_length).mean()\n",
        "    return x"
      ]
    },
    {
      "cell_type": "markdown",
      "id": "0055c264",
      "metadata": {
        "id": "0055c264"
      },
      "source": [
        "## Average true range (ATR)\n",
        "The average true range (ATR) is a technical analysis indicator that measures market volatility by decomposing the entire range of an asset price for that period. ATR measures market volatility. It is typically derived from the 14-day moving average of a series of true range indicators."
      ]
    },
    {
      "cell_type": "code",
      "execution_count": 17,
      "id": "31531e44",
      "metadata": {
        "ExecuteTime": {
          "end_time": "2023-01-17T13:15:11.489930Z",
          "start_time": "2023-01-17T13:15:11.481079Z"
        },
        "id": "31531e44"
      },
      "outputs": [],
      "source": [
        "def get_atr(df, period:int):\n",
        "    x = df.copy()\n",
        "    maxes = (x.groupby(['date']).max()['price'])\n",
        "    mins = (x.groupby(['date']).min()['price'])\n",
        "    closing_prices = df.loc[df['hour'] == 24]['price']\n",
        "\n",
        "    maxes.reset_index(inplace=True, drop=True)\n",
        "    mins.reset_index(inplace=True, drop=True)\n",
        "    closing_prices.reset_index(inplace=True, drop=True)\n",
        "\n",
        "    yesterday_prices = closing_prices.shift(1)\n",
        "    yesterday_prices[0] = yesterday_prices[1] #taking care of NA\n",
        "    \n",
        "    tr1 = maxes-mins\n",
        "    tr2 = abs(maxes - yesterday_prices)\n",
        "    tr3 = abs(mins - yesterday_prices)\n",
        "\n",
        "    tmp = pd.DataFrame({\"A\": tr1, \"B\": tr2, \"C\":tr3})\n",
        "    true_range = tmp[[\"A\", \"B\", \"C\"]].max(axis=1)\n",
        "    a_tr = pd.Series([true_range[0]], dtype = np.float64)\n",
        "    for i in range(1, len(true_range)):\n",
        "        if i < period:\n",
        "            a_tr[i] = (a_tr[i-1] * (i-1) + true_range[i]) / i\n",
        "        else:\n",
        "            a_tr[i] = (a_tr[i-1] * (period-1) + true_range[i]) / period\n",
        "\n",
        "    #extending it so it's same for the day\n",
        "    a_tr = a_tr.loc[a_tr.index.repeat(24)]\n",
        "    a_tr.reset_index(inplace=True, drop=True)\n",
        "    x[f'{period*24}h / {int(period)}day ATR'] = a_tr\n",
        "    return x"
      ]
    },
    {
      "cell_type": "markdown",
      "source": [
        "# Stochastic Oscillator\n",
        "ranges 0-100, measure of over/underbuying"
      ],
      "metadata": {
        "id": "4TZetjCpGiUW"
      },
      "id": "4TZetjCpGiUW"
    },
    {
      "cell_type": "code",
      "source": [
        "def stochastic_osc(df, hours, smoothing):\n",
        "  out = df.copy()\n",
        "  maxes = out['price'].rolling(hours).max()\n",
        "  mins = out['price'].rolling(hours).min()\n",
        "  sliced = out['price'][0:hours-1]\n",
        "  mins[0:hours-1] = min(sliced)\n",
        "  maxes[0:hours-1] = max(sliced)\n",
        "  oscillator = (out['price'] - mins) / (maxes - mins) * 100\n",
        "  out[f'{hours}h / {int(hours/24)}stochastic oscillator'] = oscillator\n",
        "  #usually you use both the oscillator and rolling average of it, this function adds both if bool flag smoothing, hardcoded 8 hours moving avg\n",
        "  if smoothing:\n",
        "    osc_smoothed = oscillator.rolling(8).mean()\n",
        "    #simple NaN handling\n",
        "    osc_smoothed[0:7] = osc_smoothed[7]\n",
        "    out[f'{hours}h / {int(hours/24)}smoothed oscillator'] = osc_smoothed\n",
        "  return out  "
      ],
      "metadata": {
        "id": "FrGI22982ria"
      },
      "id": "FrGI22982ria",
      "execution_count": 18,
      "outputs": []
    },
    {
      "cell_type": "code",
      "source": [
        "def build_big(data_f):\n",
        "    df = data_f.copy()\n",
        "    df = dataformatting(df)\n",
        "    \n",
        "    df = bollinger_bands(df, 8)\n",
        "    df = bollinger_bands(df, 24)\n",
        "    df = bollinger_bands(df, 120)\n",
        "    df = bollinger_bands(df, 336)\n",
        "    df = bollinger_bands(df, 720)\n",
        "    \n",
        "    df = get_ema(df, period_length=8)\n",
        "    df = get_ema(df, period_length=24)\n",
        "    df = get_ema(df, period_length=120)\n",
        "    df = get_ema(df, period_length=336)\n",
        "    df = get_ema(df, period_length=720)\n",
        "\n",
        "    df = get_atr(df,5) #here operating on days!\n",
        "    df = get_atr(df,14) #here operating on days!\n",
        "    df = get_atr(df,30) #here operating on days!\n",
        "\n",
        "    df = stochastic_osc(df, 24, True)\n",
        "    df = stochastic_osc(df, 120, True)\n",
        "    df = stochastic_osc(df, 336, True)\n",
        "    df = stochastic_osc(df, 720, True)\n",
        "\n",
        "    df.drop(columns = ['date', 'time'], inplace = True)\n",
        "    \n",
        "    return df"
      ],
      "metadata": {
        "id": "nmYUQAaF2rbI"
      },
      "id": "nmYUQAaF2rbI",
      "execution_count": 19,
      "outputs": []
    },
    {
      "cell_type": "code",
      "source": [
        "def build_small(data_f):\n",
        "    df = data_f.copy()\n",
        "    df = dataformatting(df)\n",
        "\n",
        "    df = bollinger_bands(df, 24)\n",
        "\n",
        "    df = get_ema(df, period_length=24)\n",
        "    \n",
        "    df = get_atr(df,5) #here operating on days!\n",
        "    \n",
        "    df = stochastic_osc(df, 24, False)\n",
        "    \n",
        "    df.drop(columns = ['date', 'time'], inplace = True)\n",
        "    \n",
        "    return df"
      ],
      "metadata": {
        "id": "1tyhD5LKLS0q"
      },
      "id": "1tyhD5LKLS0q",
      "execution_count": 21,
      "outputs": []
    },
    {
      "cell_type": "code",
      "source": [
        "tmp = build_small(train)\n",
        "tmp.head(10)"
      ],
      "metadata": {
        "colab": {
          "base_uri": "https://localhost:8080/",
          "height": 424
        },
        "id": "422VQZmeDSbV",
        "outputId": "9ae32dcd-e534-4120-a2e6-e87d22ce4579"
      },
      "id": "422VQZmeDSbV",
      "execution_count": 23,
      "outputs": [
        {
          "output_type": "execute_result",
          "data": {
            "text/plain": [
              "   price  month  day  hour  24h / 1day bollinger down  \\\n",
              "0  24.31      1    1     1                   0.814399   \n",
              "1  24.31      1    1     2                   0.683242   \n",
              "2  21.71      1    1     3                   0.168658   \n",
              "3   8.42      1    1     4                  -3.050800   \n",
              "4   0.01      1    1     5                  -5.741649   \n",
              "5   0.01      1    1     6                  -7.266726   \n",
              "6   0.02      1    1     7                  -8.196577   \n",
              "7   0.01      1    1     8                 -10.157723   \n",
              "8   0.01      1    1     9                 -10.614460   \n",
              "9   6.31      1    1    10                 -10.342721   \n",
              "\n",
              "   24h / 1day bollinger middle  24h / 1day bollinger up  24h / 1day EMA  \\\n",
              "0                    24.310000                47.805601       24.310000   \n",
              "1                    24.310000                47.936758       24.310000   \n",
              "2                    23.443333                46.718009       23.370150   \n",
              "3                    19.687500                42.425800       19.153005   \n",
              "4                    15.752000                37.245649       14.660904   \n",
              "5                    13.128333                33.523393       11.683418   \n",
              "6                    11.255714                30.708006        9.573125   \n",
              "7                     9.850000                29.857723        8.001474   \n",
              "8                     8.756667                28.127793        6.790274   \n",
              "9                     8.512000                27.366721        6.722344   \n",
              "\n",
              "   120h / 5day ATR  24h / 1stochastic oscillator  \n",
              "0            37.98                     63.981043  \n",
              "1            37.98                     63.981043  \n",
              "2            37.98                     57.135334  \n",
              "3            37.98                     22.143233  \n",
              "4            37.98                      0.000000  \n",
              "5            37.98                      0.000000  \n",
              "6            37.98                      0.026330  \n",
              "7            37.98                      0.000000  \n",
              "8            37.98                      0.000000  \n",
              "9            37.98                     16.587678  "
            ],
            "text/html": [
              "\n",
              "  <div id=\"df-efbb20bb-e9b7-4134-b6f4-aed948805245\">\n",
              "    <div class=\"colab-df-container\">\n",
              "      <div>\n",
              "<style scoped>\n",
              "    .dataframe tbody tr th:only-of-type {\n",
              "        vertical-align: middle;\n",
              "    }\n",
              "\n",
              "    .dataframe tbody tr th {\n",
              "        vertical-align: top;\n",
              "    }\n",
              "\n",
              "    .dataframe thead th {\n",
              "        text-align: right;\n",
              "    }\n",
              "</style>\n",
              "<table border=\"1\" class=\"dataframe\">\n",
              "  <thead>\n",
              "    <tr style=\"text-align: right;\">\n",
              "      <th></th>\n",
              "      <th>price</th>\n",
              "      <th>month</th>\n",
              "      <th>day</th>\n",
              "      <th>hour</th>\n",
              "      <th>24h / 1day bollinger down</th>\n",
              "      <th>24h / 1day bollinger middle</th>\n",
              "      <th>24h / 1day bollinger up</th>\n",
              "      <th>24h / 1day EMA</th>\n",
              "      <th>120h / 5day ATR</th>\n",
              "      <th>24h / 1stochastic oscillator</th>\n",
              "    </tr>\n",
              "  </thead>\n",
              "  <tbody>\n",
              "    <tr>\n",
              "      <th>0</th>\n",
              "      <td>24.31</td>\n",
              "      <td>1</td>\n",
              "      <td>1</td>\n",
              "      <td>1</td>\n",
              "      <td>0.814399</td>\n",
              "      <td>24.310000</td>\n",
              "      <td>47.805601</td>\n",
              "      <td>24.310000</td>\n",
              "      <td>37.98</td>\n",
              "      <td>63.981043</td>\n",
              "    </tr>\n",
              "    <tr>\n",
              "      <th>1</th>\n",
              "      <td>24.31</td>\n",
              "      <td>1</td>\n",
              "      <td>1</td>\n",
              "      <td>2</td>\n",
              "      <td>0.683242</td>\n",
              "      <td>24.310000</td>\n",
              "      <td>47.936758</td>\n",
              "      <td>24.310000</td>\n",
              "      <td>37.98</td>\n",
              "      <td>63.981043</td>\n",
              "    </tr>\n",
              "    <tr>\n",
              "      <th>2</th>\n",
              "      <td>21.71</td>\n",
              "      <td>1</td>\n",
              "      <td>1</td>\n",
              "      <td>3</td>\n",
              "      <td>0.168658</td>\n",
              "      <td>23.443333</td>\n",
              "      <td>46.718009</td>\n",
              "      <td>23.370150</td>\n",
              "      <td>37.98</td>\n",
              "      <td>57.135334</td>\n",
              "    </tr>\n",
              "    <tr>\n",
              "      <th>3</th>\n",
              "      <td>8.42</td>\n",
              "      <td>1</td>\n",
              "      <td>1</td>\n",
              "      <td>4</td>\n",
              "      <td>-3.050800</td>\n",
              "      <td>19.687500</td>\n",
              "      <td>42.425800</td>\n",
              "      <td>19.153005</td>\n",
              "      <td>37.98</td>\n",
              "      <td>22.143233</td>\n",
              "    </tr>\n",
              "    <tr>\n",
              "      <th>4</th>\n",
              "      <td>0.01</td>\n",
              "      <td>1</td>\n",
              "      <td>1</td>\n",
              "      <td>5</td>\n",
              "      <td>-5.741649</td>\n",
              "      <td>15.752000</td>\n",
              "      <td>37.245649</td>\n",
              "      <td>14.660904</td>\n",
              "      <td>37.98</td>\n",
              "      <td>0.000000</td>\n",
              "    </tr>\n",
              "    <tr>\n",
              "      <th>5</th>\n",
              "      <td>0.01</td>\n",
              "      <td>1</td>\n",
              "      <td>1</td>\n",
              "      <td>6</td>\n",
              "      <td>-7.266726</td>\n",
              "      <td>13.128333</td>\n",
              "      <td>33.523393</td>\n",
              "      <td>11.683418</td>\n",
              "      <td>37.98</td>\n",
              "      <td>0.000000</td>\n",
              "    </tr>\n",
              "    <tr>\n",
              "      <th>6</th>\n",
              "      <td>0.02</td>\n",
              "      <td>1</td>\n",
              "      <td>1</td>\n",
              "      <td>7</td>\n",
              "      <td>-8.196577</td>\n",
              "      <td>11.255714</td>\n",
              "      <td>30.708006</td>\n",
              "      <td>9.573125</td>\n",
              "      <td>37.98</td>\n",
              "      <td>0.026330</td>\n",
              "    </tr>\n",
              "    <tr>\n",
              "      <th>7</th>\n",
              "      <td>0.01</td>\n",
              "      <td>1</td>\n",
              "      <td>1</td>\n",
              "      <td>8</td>\n",
              "      <td>-10.157723</td>\n",
              "      <td>9.850000</td>\n",
              "      <td>29.857723</td>\n",
              "      <td>8.001474</td>\n",
              "      <td>37.98</td>\n",
              "      <td>0.000000</td>\n",
              "    </tr>\n",
              "    <tr>\n",
              "      <th>8</th>\n",
              "      <td>0.01</td>\n",
              "      <td>1</td>\n",
              "      <td>1</td>\n",
              "      <td>9</td>\n",
              "      <td>-10.614460</td>\n",
              "      <td>8.756667</td>\n",
              "      <td>28.127793</td>\n",
              "      <td>6.790274</td>\n",
              "      <td>37.98</td>\n",
              "      <td>0.000000</td>\n",
              "    </tr>\n",
              "    <tr>\n",
              "      <th>9</th>\n",
              "      <td>6.31</td>\n",
              "      <td>1</td>\n",
              "      <td>1</td>\n",
              "      <td>10</td>\n",
              "      <td>-10.342721</td>\n",
              "      <td>8.512000</td>\n",
              "      <td>27.366721</td>\n",
              "      <td>6.722344</td>\n",
              "      <td>37.98</td>\n",
              "      <td>16.587678</td>\n",
              "    </tr>\n",
              "  </tbody>\n",
              "</table>\n",
              "</div>\n",
              "      <button class=\"colab-df-convert\" onclick=\"convertToInteractive('df-efbb20bb-e9b7-4134-b6f4-aed948805245')\"\n",
              "              title=\"Convert this dataframe to an interactive table.\"\n",
              "              style=\"display:none;\">\n",
              "        \n",
              "  <svg xmlns=\"http://www.w3.org/2000/svg\" height=\"24px\"viewBox=\"0 0 24 24\"\n",
              "       width=\"24px\">\n",
              "    <path d=\"M0 0h24v24H0V0z\" fill=\"none\"/>\n",
              "    <path d=\"M18.56 5.44l.94 2.06.94-2.06 2.06-.94-2.06-.94-.94-2.06-.94 2.06-2.06.94zm-11 1L8.5 8.5l.94-2.06 2.06-.94-2.06-.94L8.5 2.5l-.94 2.06-2.06.94zm10 10l.94 2.06.94-2.06 2.06-.94-2.06-.94-.94-2.06-.94 2.06-2.06.94z\"/><path d=\"M17.41 7.96l-1.37-1.37c-.4-.4-.92-.59-1.43-.59-.52 0-1.04.2-1.43.59L10.3 9.45l-7.72 7.72c-.78.78-.78 2.05 0 2.83L4 21.41c.39.39.9.59 1.41.59.51 0 1.02-.2 1.41-.59l7.78-7.78 2.81-2.81c.8-.78.8-2.07 0-2.86zM5.41 20L4 18.59l7.72-7.72 1.47 1.35L5.41 20z\"/>\n",
              "  </svg>\n",
              "      </button>\n",
              "      \n",
              "  <style>\n",
              "    .colab-df-container {\n",
              "      display:flex;\n",
              "      flex-wrap:wrap;\n",
              "      gap: 12px;\n",
              "    }\n",
              "\n",
              "    .colab-df-convert {\n",
              "      background-color: #E8F0FE;\n",
              "      border: none;\n",
              "      border-radius: 50%;\n",
              "      cursor: pointer;\n",
              "      display: none;\n",
              "      fill: #1967D2;\n",
              "      height: 32px;\n",
              "      padding: 0 0 0 0;\n",
              "      width: 32px;\n",
              "    }\n",
              "\n",
              "    .colab-df-convert:hover {\n",
              "      background-color: #E2EBFA;\n",
              "      box-shadow: 0px 1px 2px rgba(60, 64, 67, 0.3), 0px 1px 3px 1px rgba(60, 64, 67, 0.15);\n",
              "      fill: #174EA6;\n",
              "    }\n",
              "\n",
              "    [theme=dark] .colab-df-convert {\n",
              "      background-color: #3B4455;\n",
              "      fill: #D2E3FC;\n",
              "    }\n",
              "\n",
              "    [theme=dark] .colab-df-convert:hover {\n",
              "      background-color: #434B5C;\n",
              "      box-shadow: 0px 1px 3px 1px rgba(0, 0, 0, 0.15);\n",
              "      filter: drop-shadow(0px 1px 2px rgba(0, 0, 0, 0.3));\n",
              "      fill: #FFFFFF;\n",
              "    }\n",
              "  </style>\n",
              "\n",
              "      <script>\n",
              "        const buttonEl =\n",
              "          document.querySelector('#df-efbb20bb-e9b7-4134-b6f4-aed948805245 button.colab-df-convert');\n",
              "        buttonEl.style.display =\n",
              "          google.colab.kernel.accessAllowed ? 'block' : 'none';\n",
              "\n",
              "        async function convertToInteractive(key) {\n",
              "          const element = document.querySelector('#df-efbb20bb-e9b7-4134-b6f4-aed948805245');\n",
              "          const dataTable =\n",
              "            await google.colab.kernel.invokeFunction('convertToInteractive',\n",
              "                                                     [key], {});\n",
              "          if (!dataTable) return;\n",
              "\n",
              "          const docLinkHtml = 'Like what you see? Visit the ' +\n",
              "            '<a target=\"_blank\" href=https://colab.research.google.com/notebooks/data_table.ipynb>data table notebook</a>'\n",
              "            + ' to learn more about interactive tables.';\n",
              "          element.innerHTML = '';\n",
              "          dataTable['output_type'] = 'display_data';\n",
              "          await google.colab.output.renderOutput(dataTable, element);\n",
              "          const docLink = document.createElement('div');\n",
              "          docLink.innerHTML = docLinkHtml;\n",
              "          element.appendChild(docLink);\n",
              "        }\n",
              "      </script>\n",
              "    </div>\n",
              "  </div>\n",
              "  "
            ]
          },
          "metadata": {},
          "execution_count": 23
        }
      ]
    },
    {
      "cell_type": "markdown",
      "id": "1f6d3dcf",
      "metadata": {
        "id": "1f6d3dcf"
      },
      "source": [
        "Creating DF for tabular learning"
      ]
    },
    {
      "cell_type": "code",
      "execution_count": null,
      "id": "7dec7843",
      "metadata": {
        "id": "7dec7843"
      },
      "outputs": [],
      "source": [
        "train_discrete_path = os.path.join(os.getcwd(),'data/train_data/train_discrete.npy')\n",
        "val_discrete_path = os.path.join(os.getcwd(),'data/val_data/val_discrete.npy')\n",
        "\n",
        "with open(train_discrete_path,'wb') as f: \n",
        "    np.save(f,categorical_train.to_numpy())\n",
        "\n",
        "with open(val_discrete_path,'wb') as f:\n",
        "    np.save(f,categorical_val.to_numpy())"
      ]
    },
    {
      "cell_type": "code",
      "execution_count": null,
      "id": "08f58ddb",
      "metadata": {
        "ExecuteTime": {
          "end_time": "2023-01-17T13:29:28.833105Z",
          "start_time": "2023-01-17T13:29:28.796776Z"
        },
        "id": "08f58ddb"
      },
      "outputs": [],
      "source": [
        "#to save to .npy file\n",
        "np_train = train_preprocessed[train_preprocessed.columns[3:]].to_numpy()\n",
        "with open('./data/train_data/train_big.npy', 'wb') as f:\n",
        "    np.save(f, np_train)\n",
        "    \n",
        "np_val = val_preprocessed[val_preprocessed.columns[3:]].to_numpy()\n",
        "with open('./data/val_data/val_big.npy', 'wb') as f:\n",
        "    np.save(f, np_val)"
      ]
    },
    {
      "cell_type": "code",
      "execution_count": null,
      "id": "860eba1b",
      "metadata": {
        "ExecuteTime": {
          "end_time": "2023-01-15T21:21:12.772416Z",
          "start_time": "2023-01-15T21:21:12.768018Z"
        },
        "id": "860eba1b"
      },
      "outputs": [],
      "source": [
        "#to open .npy file\n",
        "with open('./data/train_data/train.npy', 'rb') as f:\n",
        "    np_train = np.load(f)"
      ]
    }
  ],
  "metadata": {
    "colab": {
      "provenance": []
    },
    "kernelspec": {
      "display_name": "project_rl_asgn",
      "language": "python",
      "name": "python3"
    },
    "language_info": {
      "codemirror_mode": {
        "name": "ipython",
        "version": 3
      },
      "file_extension": ".py",
      "mimetype": "text/x-python",
      "name": "python",
      "nbconvert_exporter": "python",
      "pygments_lexer": "ipython3",
      "version": "3.10.8"
    },
    "vscode": {
      "interpreter": {
        "hash": "fbabf998d7039075f5d858a6a5d1e46beb47c12201a23ca3f407e9b9517af609"
      }
    }
  },
  "nbformat": 4,
  "nbformat_minor": 5
}